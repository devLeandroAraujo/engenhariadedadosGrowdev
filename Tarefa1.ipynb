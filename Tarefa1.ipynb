{
 "cells": [
  {
   "cell_type": "markdown",
   "metadata": {},
   "source": [
    "Exercícios:\n",
    "\n",
    "1 - Conversão de graus Celsius para Fahrenheit – Crie um programa que converta graus\n",
    "Celsius em Fahrenheit. A fórmula é a seguinte:\n",
    "\n",
    "F = 9\n",
    "— C + 32\n",
    "5\n",
    "\n",
    "O programa deve solicitar ao usuário que insira uma temperatura em graus Celsius e, em\n",
    "seguida, exiba a temperatura convertida em Fahrenheit. Após construir esse programa,\n",
    "modifique-o para que converta graus Fahrenheit em graus Celsius."
   ]
  },
  {
   "cell_type": "code",
   "execution_count": 2,
   "metadata": {},
   "outputs": [
    {
     "name": "stdout",
     "output_type": "stream",
     "text": [
      "A temperatura de Celsius para Fahrenheit é: 68.0°F\n",
      "A temperatura de Fahrenheit para Celsius é: 20.0°C\n"
     ]
    }
   ],
   "source": [
    "celsius = float (input(\"Insira a temperatura em graus Celsius: \"))\n",
    "fahrenheit = (celsius * 9/5) + 32\n",
    "print(f\"A temperatura de Celsius para Fahrenheit é: {fahrenheit}°F\")\n",
    "\n",
    "fahrenheit = float(input(\"Insira a temperatura em graus Fahrenheit: \"))\n",
    "celsius = (fahrenheit - 32) * 5/9\n",
    "print(f\"A temperatura de Fahrenheit para Celsius é: {celsius}°C\")\n",
    "\n",
    "\n",
    "\n"
   ]
  },
  {
   "cell_type": "markdown",
   "metadata": {},
   "source": [
    "2- Escreva um programa que receba um número e escreva “Par” caso esse número seja par e escreva “Impar” caso esse número seja impar."
   ]
  },
  {
   "cell_type": "code",
   "execution_count": 8,
   "metadata": {},
   "outputs": [
    {
     "name": "stdout",
     "output_type": "stream",
     "text": [
      "O número 1 é impar.\n"
     ]
    }
   ],
   "source": [
    "num = int(input (\"Favor digite um número\"))\n",
    "if num % 2 == 0:\n",
    "    print (f'O número {num} é par.')\n",
    "else:\n",
    "    print (f'O número {num} é impar.')\n",
    "    "
   ]
  },
  {
   "cell_type": "markdown",
   "metadata": {},
   "source": [
    "3 - Escreva um programa que receba dois números, exiba as opções:\n",
    "1 - adição\n",
    "2 - subtração\n",
    "Então peça ao usuário para escolher uma das opções. \n",
    "Caso escolha a opção 1 o programa deve realizar a soma dos dois números lidos e exibir. \n",
    "Caso escolha a opção 2 o programa deve realizar a subtração dos dois números lidos e exibir."
   ]
  },
  {
   "cell_type": "code",
   "execution_count": 14,
   "metadata": {},
   "outputs": [
    {
     "name": "stdout",
     "output_type": "stream",
     "text": [
      "Selecione uma operação para realizar: 1 - Adição ou 2 - Subtração\n",
      "Opção inválida. Por favor, selecione 1 para adição ou 2 para subtração.\n"
     ]
    }
   ],
   "source": [
    "num1 = int(input(\"Digite o primeiro número: \"))\n",
    "num2 = int(input(\"Digite o segundo número: \"))\n",
    "\n",
    "print(\"Selecione uma operação para realizar: 1 - Adição ou 2 - Subtração\")\n",
    "\n",
    "selecao = int(input(\"Digite o número da operação desejada: \"))\n",
    "\n",
    "if selecao == 1:\n",
    "    resultado = num1 + num2\n",
    "    print(f\"A soma de {num1} mais {num2} é igual a {resultado}\")\n",
    "elif selecao == 2:\n",
    "    resultado = num1 - num2\n",
    "    print(f\"A subtração de {num1} menos {num2} é igual a {resultado}\")\n",
    "else:\n",
    "    print(\"Opção inválida. Por favor, selecione 1 para adição ou 2 para subtração.\")\n",
    "\n"
   ]
  },
  {
   "cell_type": "markdown",
   "metadata": {},
   "source": [
    "4 - Numa determinada escola, os critérios de aprovação são os seguintes:\n",
    "- O aluno deve ter, no máximo, 25% de faltas;\n",
    "- A nota final deve ser igual ou superior a 7,00.\n",
    "Construa um programa para ler as notas que um aluno tirou nos 4 bimestres, o número total de aulas e o número de faltas, mostrando ao final a situação do aluno como sendo “Aprovado”, “Reprovado por Faltas” e “Reprovado por média”, considerando que a reprovação por faltas se sobrepõe a reprovação por nota."
   ]
  },
  {
   "cell_type": "code",
   "execution_count": 21,
   "metadata": {},
   "outputs": [
    {
     "name": "stdout",
     "output_type": "stream",
     "text": [
      "Aluno Reprovado por Faltas\n"
     ]
    }
   ],
   "source": [
    "# versão 1 médias de notas e faltas.\n",
    "nota_bi1 = float(input(\"Digite a nota do 1º bimestre: \"))\n",
    "nota_bi2 = float(input(\"Digite a nota do 2º bimestre: \"))\n",
    "nota_bi3 = float(input(\"Digite a nota do 3º bimestre: \"))\n",
    "nota_bi4 = float(input(\"Digite a nota do 4º bimestre: \"))\n",
    "\n",
    "numero_aulas = int(input(\"Digite o número total de aulas: \"))\n",
    "numero_faltas = int(input(\"Digite o número total de faltas: \"))\n",
    "\n",
    "media_final = (nota_bi1 + nota_bi2 + nota_bi3 + nota_bi4) / 4\n",
    "\n",
    "percentual_faltas = (numero_faltas / numero_aulas) * 100\n",
    "\n",
    "if percentual_faltas > 25:\n",
    "    print(\"Aluno reprovado por faltas.\")\n",
    "elif media_final >= 7:\n",
    "    print(\"Aluno aprovado.\")\n",
    "else:\n",
    "    print(\"Aluno reprovado por média.\")"
   ]
  },
  {
   "cell_type": "markdown",
   "metadata": {},
   "source": [
    "5 - Após construir o programa anterior, crie mais duas versões dele para prever as seguintes\n",
    "situações:\n",
    "- Um aluno pode ficar em recuperação se possuir frequência suficiente (superior a 75%) e média superior a 5 mas inferior a 7;\n"
   ]
  },
  {
   "cell_type": "code",
   "execution_count": 28,
   "metadata": {},
   "outputs": [
    {
     "name": "stdout",
     "output_type": "stream",
     "text": [
      "Aluno reprovado por média.\n"
     ]
    }
   ],
   "source": [
    "# versão 2 inserindo a recuperação\n",
    "\n",
    "nota_bi1 = float(input(\"Digite a nota do 1º bimestre: \"))\n",
    "nota_bi2 = float(input(\"Digite a nota do 2º bimestre: \"))\n",
    "nota_bi3 = float(input(\"Digite a nota do 3º bimestre: \"))\n",
    "nota_bi4 = float(input(\"Digite a nota do 4º bimestre: \"))\n",
    "\n",
    "numero_aulas = int(input(\"Digite o número total de aulas: \"))\n",
    "numero_faltas = int(input(\"Digite o número total de faltas: \"))\n",
    "\n",
    "media_final = (nota_bi1 + nota_bi2 + nota_bi3 + nota_bi4) / 4\n",
    "\n",
    "percentual_faltas = (numero_faltas / numero_aulas) * 100\n",
    "\n",
    "if percentual_faltas > 25:\n",
    "    print(\"Aluno reprovado por faltas.\")\n",
    "elif media_final >= 7:\n",
    "    print(\"Aluno aprovado.\")\n",
    "elif media_final >= 5:\n",
    "    if percentual_faltas <= 75:\n",
    "        print(\"Aluno em recuperação.\")\n",
    "else:\n",
    "    print(\"Aluno reprovado por média.\")"
   ]
  },
  {
   "cell_type": "markdown",
   "metadata": {},
   "source": [
    "- Caso um aluno reprove por média e faltas, sua situação deve ser “Reprovado por Média e Faltas” (ao invés de simplesmente “Reprovado por Faltas” como antes)."
   ]
  },
  {
   "cell_type": "code",
   "execution_count": 25,
   "metadata": {},
   "outputs": [
    {
     "name": "stdout",
     "output_type": "stream",
     "text": [
      "Aluno reprovado por média e faltas\n"
     ]
    }
   ],
   "source": [
    "# versão 3 inserindo reprovação por média e faltas\n",
    "\n",
    "nota_bi1 = float(input(\"Digite a nota do 1º bimestre: \"))\n",
    "nota_bi2 = float(input(\"Digite a nota do 2º bimestre: \"))\n",
    "nota_bi3 = float(input(\"Digite a nota do 3º bimestre: \"))\n",
    "nota_bi4 = float(input(\"Digite a nota do 4º bimestre: \"))\n",
    "\n",
    "numero_aulas = int(input(\"Digite o número total de aulas: \"))\n",
    "numero_faltas = int(input(\"Digite o número total de faltas: \"))\n",
    "\n",
    "media_final = (nota_bi1 + nota_bi2 + nota_bi3 + nota_bi4) / 4\n",
    "\n",
    "percentual_faltas = (numero_faltas / numero_aulas) * 100\n",
    "\n",
    "if percentual_faltas > 25 and media_final < 5:\n",
    "    print(\"Aluno reprovado por média e faltas.\")\n",
    "elif percentual_faltas > 25:\n",
    "    print(\"Aluno reprovado por faltas.\")\n",
    "elif media_final >= 7:\n",
    "    print(\"Aluno Aprovado.\")\n",
    "elif media_final >= 5:\n",
    "    if percentual_faltas <= 75:\n",
    "        print(\"Aluno em recuperação.\")\n",
    "else:\n",
    "    print(\"Aluno reprovado por média.\")"
   ]
  },
  {
   "cell_type": "markdown",
   "metadata": {},
   "source": [
    "\n",
    "6 - Escreva um programa que peça ao usuário para fornecer um dia, mês e o ano arbitrários\n",
    "e determine se esses dados correspondem a uma data válida. \n",
    "Não deixe de considerar que existem meses com 30 e 31 dias, e que fevereiro pode ter 28 ou 29 dias, dependendo se o\n",
    "ano for bissexto. \n",
    "Considere que um ano é bissexto quando for divisível por 4."
   ]
  },
  {
   "cell_type": "code",
   "execution_count": 39,
   "metadata": {},
   "outputs": [
    {
     "name": "stdout",
     "output_type": "stream",
     "text": [
      "A data: 29/2/24 é válida.\n"
     ]
    }
   ],
   "source": [
    "dia = int(input(\"Digite o dia: \"))\n",
    "mes = int(input(\"Digite o mês: \"))\n",
    "ano = int(input(\"Digite o ano: \"))\n",
    "\n",
    "bissexto = ano % 4 == 0 and (ano % 100 != 0 or ano % 400 == 0)\n",
    "\n",
    "mes_31_dias = {1, 3, 5, 7, 8, 10, 12}\n",
    "mes_30_dias = {4, 6, 9, 11}\n",
    "\n",
    "dt_valida = True\n",
    "if mes < 1 or mes > 12:\n",
    "    dt_valida = False\n",
    "elif mes in mes_31_dias and (dia < 1 or dia > 31):\n",
    "    dt_valida = False\n",
    "elif mes in mes_30_dias and (dia < 1 or dia > 30):\n",
    "    dt_valida = False\n",
    "elif mes == 2:\n",
    "    if bissexto:\n",
    "        if dia < 1 or dia > 29:\n",
    "            dt_valida = False\n",
    "    else:\n",
    "        if dia < 1 or dia > 28:\n",
    "            dt_valida = False\n",
    "\n",
    "\n",
    "if dt_valida:\n",
    "    print(f\"A data: {dia}/{mes}/{ano} é válida.\")\n",
    "else:\n",
    "    print(f\"A data: {dia}/{mes}/{ano} é inválida.\")\n",
    "\n"
   ]
  },
  {
   "cell_type": "markdown",
   "metadata": {},
   "source": [
    "7- Construa um programa que leia uma data qualquer (dia, mês e ano) e calcule a data do\n",
    "próximo dia. Lembre-se que em anos bissextos o mês de fevereiro tem 29 dias. Lembre-se\n",
    "que um ano é bissexto quando for divisível por 4."
   ]
  },
  {
   "cell_type": "code",
   "execution_count": 43,
   "metadata": {},
   "outputs": [
    {
     "name": "stdout",
     "output_type": "stream",
     "text": [
      "A data: 29/2/23 é inválida.\n"
     ]
    }
   ],
   "source": [
    "dia = int(input(\"Digite o dia: \"))\n",
    "mes = int(input(\"Digite o mês: \"))\n",
    "ano = int(input(\"Digite o ano: \"))\n",
    "\n",
    "bissexto = ano % 4 == 0 and (ano % 100 != 0 or ano % 400 == 0)\n",
    "\n",
    "mes_31_dias = {1, 3, 5, 7, 8, 10, 12}\n",
    "mes_30_dias = {4, 6, 9, 11}\n",
    "\n",
    "dt_valida = True\n",
    "\n",
    "if mes < 1 or mes > 12:\n",
    "    dt_valida = False\n",
    "elif mes in mes_31_dias and (dia < 1 or dia > 31):\n",
    "    dt_valida = False\n",
    "elif mes in mes_30_dias and (dia < 1 or dia > 30):\n",
    "    dt_valida = False\n",
    "elif mes == 2:\n",
    "    if bissexto:\n",
    "        if dia < 1 or dia > 29:\n",
    "            dt_valida = False\n",
    "    else:\n",
    "        if dia < 1 or dia > 28:\n",
    "            dt_valida = False\n",
    "\n",
    "if dt_valida:\n",
    "    print(f\"A data: {dia}/{mes}/{ano} é válida.\")\n",
    "    dia += 1\n",
    "\n",
    "    if mes in mes_31_dias and dia > 31:\n",
    "        dia = 1\n",
    "        mes += 1\n",
    "    elif mes in mes_30_dias and dia > 30:\n",
    "        dia = 1\n",
    "        mes += 1\n",
    "    elif mes == 2:\n",
    "        if bissexto and dia > 29:\n",
    "            dia = 1\n",
    "            mes += 1\n",
    "        elif not bissexto and dia > 28:\n",
    "            dia = 1\n",
    "            mes += 1\n",
    "    if mes > 12:\n",
    "        mes = 1\n",
    "        ano += 1\n",
    "\n",
    "    print(f\"A próxima data é: {dia}/{mes}/{ano}\")\n",
    "else:\n",
    "    print(f\"A data: {dia}/{mes}/{ano} é inválida.\")\n"
   ]
  },
  {
   "cell_type": "markdown",
   "metadata": {},
   "source": [
    "8 - Faça um programa que leia as duas notas parciais obtidas por um aluno numa\n",
    "disciplina ao longo de um semestre, e calcule a sua média. \n",
    "A atribuição de conceitos obedece à tabela abaixo:\n",
    "Média de Aproveitamento\n",
    "- Entre 9.0 e 10.0 Conceito - A\n",
    "- Entre 7.5 e 8.9 - B\n",
    "- Entre 6.0 e 7.4 - C\n",
    "- Entre 4.0 e 5.9 - D\n",
    "- Entre 0 e 3.9 - E\n",
    "\n",
    "O programa deve mostrar na tela as notas, a média, o conceito correspondente e a\n",
    "mensagem:\n",
    "APROVADO se o conceito for A, B ou C.\n",
    "REPROVADO se o conceito for D ou E."
   ]
  },
  {
   "cell_type": "code",
   "execution_count": 50,
   "metadata": {},
   "outputs": [
    {
     "name": "stdout",
     "output_type": "stream",
     "text": [
      "Nota parcial 1: 9.0\n",
      "Nota parcial 2: 7.5\n",
      "Média das parciais: 8.25\n",
      "Conceito: B\n",
      "APROVADO\n"
     ]
    }
   ],
   "source": [
    "nota1 = float(input(\"Digite nota parcial 1: \"))\n",
    "nota2 = float(input(\"Digite nota parcial 2: \"))\n",
    "\n",
    "media = (nota1 + nota2) / 2\n",
    "\n",
    "if 9.0 <= media <= 10.0:\n",
    "    conceito = \"A\"\n",
    "elif 7.5 <= media < 9.0:\n",
    "    conceito = \"B\"\n",
    "elif 6.0 <= media < 7.5:\n",
    "    conceito = \"C\"\n",
    "elif 4.0 <= media < 6.0:\n",
    "    conceito = \"D\"\n",
    "else:\n",
    "    conceito = \"E\"\n",
    "\n",
    "print(f\"Nota parcial 1: {nota1}\")\n",
    "print(f\"Nota parcial 2: {nota2}\")\n",
    "print(f\"Média das parciais: {media}\")\n",
    "print(f\"Conceito: {conceito}\")\n",
    "\n",
    "\n",
    "if conceito == 'A' or conceito == 'B' or conceito == 'C':\n",
    "    print(\"APROVADO\")\n",
    "else:\n",
    "    print(\"REPROVADO\")\n"
   ]
  },
  {
   "cell_type": "markdown",
   "metadata": {},
   "source": [
    "As Organizações XTC resolveram dar um aumento de salário aos seus colaboradores e\n",
    "lhe contrataram para desenvolver o programa que calcula os reajustes. Faça um programa\n",
    "que recebe o salário de um colaborador e o reajuste segundo o seguinte critério, baseado\n",
    "no salário atual:\n",
    "- salários até R$ 280,00 (incluindo): aumento de 20%\n",
    "- salários entre R$ 280,00 e R$ 700,00: aumento de 15%\n",
    "- salários entre R$ 700,00 e R$ 1500,00: aumento de 10%\n",
    "- salários de R$ 1500,00 em diante: aumento de 5%\n",
    "Após o aumento ser realizado informe na tela:\n",
    "- o salário antes do reajuste;\n",
    "- o percentual de aumento aplicado;\n",
    "- o valor do aumento;\n",
    "- o novo salário, após o aumento."
   ]
  },
  {
   "cell_type": "code",
   "execution_count": 55,
   "metadata": {},
   "outputs": [
    {
     "name": "stdout",
     "output_type": "stream",
     "text": [
      "Salário antes do reajuste: 1500.0\n",
      "Percentual de aumento aplicado: 10 %\n",
      "Valor do aumento: 150.0\n",
      "Novo salário após o aumento: 1650.0\n"
     ]
    }
   ],
   "source": [
    "salario_atual = float(input(\"Digite o salário atual: \"))\n",
    "\n",
    "\n",
    "\n",
    "if salario_atual <= 280.00:\n",
    "    percentual_aumento = 20\n",
    "elif salario_atual <= 700.00:\n",
    "    percentual_aumento = 15\n",
    "elif salario_atual <= 1500.00:\n",
    "    percentual_aumento = 10\n",
    "else:\n",
    "    percentual_aumento = 5\n",
    "\n",
    "\n",
    "aumento = salario_atual * (percentual_aumento / 100)\n",
    "novo_salario = salario_atual + aumento\n",
    "\n",
    "\n",
    "\n",
    "print(\"Salário antes do reajuste:\", salario_atual)\n",
    "print(\"Percentual de aumento aplicado:\", percentual_aumento, \"%\")\n",
    "print(\"Valor do aumento:\", aumento)\n",
    "print(\"Novo salário após o aumento:\", novo_salario)\n"
   ]
  }
 ],
 "metadata": {
  "kernelspec": {
   "display_name": "Python 3",
   "language": "python",
   "name": "python3"
  },
  "language_info": {
   "codemirror_mode": {
    "name": "ipython",
    "version": 3
   },
   "file_extension": ".py",
   "mimetype": "text/x-python",
   "name": "python",
   "nbconvert_exporter": "python",
   "pygments_lexer": "ipython3",
   "version": "3.10.0"
  }
 },
 "nbformat": 4,
 "nbformat_minor": 2
}
