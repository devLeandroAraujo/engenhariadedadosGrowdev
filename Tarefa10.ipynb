{
 "cells": [
  {
   "cell_type": "code",
   "execution_count": 1,
   "metadata": {},
   "outputs": [
    {
     "name": "stdout",
     "output_type": "stream",
     "text": [
      "Collecting psycopg2-binary\n",
      "  Downloading psycopg2_binary-2.9.10-cp310-cp310-win_amd64.whl (1.2 MB)\n",
      "Installing collected packages: psycopg2-binary\n",
      "Successfully installed psycopg2-binary-2.9.10\n",
      "Note: you may need to restart the kernel to use updated packages.\n"
     ]
    },
    {
     "name": "stderr",
     "output_type": "stream",
     "text": [
      "WARNING: You are using pip version 21.2.3; however, version 24.3.1 is available.\n",
      "You should consider upgrading via the 'c:\\Users\\leo_k\\AppData\\Local\\Programs\\Python\\Python310\\python.exe -m pip install --upgrade pip' command.\n"
     ]
    }
   ],
   "source": [
    "pip install psycopg2-binary"
   ]
  },
  {
   "cell_type": "markdown",
   "metadata": {},
   "source": [
    "Conectar no Banco de dados"
   ]
  },
  {
   "cell_type": "code",
   "execution_count": 2,
   "metadata": {},
   "outputs": [],
   "source": [
    "import psycopg2\n",
    "import random\n",
    "from datetime import datetime, timedelta #Utilizadas para manipular datas e criar valores aleatórios de datas de nascimento para os clientes.\n",
    "\n",
    "# Conectando no BD\n",
    "conn = psycopg2.connect(\n",
    "    dbname=\"ecommerce\",\n",
    "    user=\"postgres\",\n",
    "    password=\"root\",\n",
    "    host=\"localhost\",\n",
    "    port=\"5432\"\n",
    ")\n",
    "cursor = conn.cursor()"
   ]
  },
  {
   "cell_type": "markdown",
   "metadata": {},
   "source": [
    "Inserir dados nas tabelas"
   ]
  },
  {
   "cell_type": "code",
   "execution_count": 3,
   "metadata": {},
   "outputs": [
    {
     "name": "stdout",
     "output_type": "stream",
     "text": [
      "Inserção de dados concluída.\n"
     ]
    }
   ],
   "source": [
    "# Função para inserir dados randômicos nas tabelas\n",
    "def inserir_dados():\n",
    "    # Inserir 10 mil Produtos\n",
    "    for _ in range(10000):\n",
    "        nome_produto = f\"Produto_{random.randint(1, 10000)}\"\n",
    "        descricao = \"Descrição do produto\"\n",
    "        preco = round(random.uniform(10, 500), 2)\n",
    "        estoque = random.randint(0, 100)\n",
    "        categoria = f\"Categoria_{random.randint(1, 10)}\"\n",
    "        cursor.execute(\n",
    "            \"INSERT INTO Produtos (Nome, Descricao, Preco, Estoque, Categoria) VALUES (%s, %s, %s, %s, %s)\",\n",
    "            (nome_produto, descricao, preco, estoque, categoria)\n",
    "        )\n",
    "\n",
    "    # Inserir 10 mil Clientes\n",
    "    for _ in range(10000):\n",
    "        nome_cliente = f\"Cliente_{random.randint(1, 10000)}\"\n",
    "        endereco = \"Endereço do cliente\"\n",
    "        telefone = f\"{random.randint(1000000000, 9999999999)}\"\n",
    "        email = f\"cliente{random.randint(1, 10000)}@email.com\"\n",
    "        data_nascimento = datetime.now() - timedelta(days=random.randint(18 * 365, 80 * 365))\n",
    "        cursor.execute(\n",
    "            \"INSERT INTO Clientes (Nome, Endereco, Telefone, Email, Data_Nascimento) VALUES (%s, %s, %s, %s, %s)\",\n",
    "            (nome_cliente, endereco, telefone, email, data_nascimento)\n",
    "        )\n",
    "\n",
    "    # Confirme as inserções e feche a conexão\n",
    "    conn.commit()\n",
    "    cursor.close()\n",
    "    conn.close() # Fechar a conexão com o banco (como boa prática)\n",
    "\n",
    "# Executar a função de inserção de dados\n",
    "inserir_dados()\n",
    "print(\"Inserção de dados concluída.\")"
   ]
  },
  {
   "cell_type": "markdown",
   "metadata": {},
   "source": [
    "Verificando se deu certo com pandas"
   ]
  },
  {
   "cell_type": "code",
   "execution_count": 5,
   "metadata": {},
   "outputs": [
    {
     "name": "stdout",
     "output_type": "stream",
     "text": [
      "Tabela Produtos:\n",
      "   id_produto          nome             descricao   preco  estoque  \\\n",
      "0           1  Produto_6407  Descrição do produto  396.47       58   \n",
      "1           2  Produto_8723  Descrição do produto  458.67       74   \n",
      "2           3  Produto_2270  Descrição do produto  444.75        7   \n",
      "3           4  Produto_6639  Descrição do produto  366.91       10   \n",
      "4           5  Produto_4828  Descrição do produto   47.00       83   \n",
      "\n",
      "      categoria  \n",
      "0   Categoria_7  \n",
      "1   Categoria_9  \n",
      "2   Categoria_2  \n",
      "3  Categoria_10  \n",
      "4   Categoria_8  \n",
      "--------------------------------------------------\n",
      "Tabela Clientes:\n",
      "   id_cliente          nome             endereco    telefone  \\\n",
      "0           1  Cliente_4263  Endereço do cliente  4459940840   \n",
      "1           2  Cliente_8780  Endereço do cliente  8077972190   \n",
      "2           3  Cliente_3063  Endereço do cliente  3743868493   \n",
      "3           4   Cliente_254  Endereço do cliente  9347406710   \n",
      "4           5  Cliente_7784  Endereço do cliente  9887776289   \n",
      "\n",
      "                   email data_nascimento  \n",
      "0  cliente2482@email.com      1962-12-20  \n",
      "1  cliente9581@email.com      1973-07-27  \n",
      "2  cliente3610@email.com      1994-08-18  \n",
      "3  cliente3015@email.com      1961-10-10  \n",
      "4  cliente1520@email.com      1967-06-07  \n",
      "--------------------------------------------------\n"
     ]
    },
    {
     "name": "stderr",
     "output_type": "stream",
     "text": [
      "C:\\Users\\leo_k\\AppData\\Local\\Temp\\ipykernel_15036\\281813684.py:15: UserWarning: pandas only supports SQLAlchemy connectable (engine/connection) or database string URI or sqlite3 DBAPI2 connection. Other DBAPI2 objects are not tested. Please consider using SQLAlchemy.\n",
      "  df = pd.read_sql(query, conn)\n",
      "C:\\Users\\leo_k\\AppData\\Local\\Temp\\ipykernel_15036\\281813684.py:15: UserWarning: pandas only supports SQLAlchemy connectable (engine/connection) or database string URI or sqlite3 DBAPI2 connection. Other DBAPI2 objects are not tested. Please consider using SQLAlchemy.\n",
      "  df = pd.read_sql(query, conn)\n"
     ]
    }
   ],
   "source": [
    "import pandas as pd\n",
    "\n",
    "conn = psycopg2.connect(\n",
    "    dbname=\"ecommerce\",\n",
    "    user=\"postgres\",\n",
    "    password=\"root\",\n",
    "    host=\"localhost\",\n",
    "    port=\"5432\"\n",
    ")\n",
    "\n",
    "# Função para carregar uma tabela como DataFrame\n",
    "def carregar_tabela(tabela):\n",
    "    query = f\"SELECT * FROM {tabela};\"\n",
    "    df = pd.read_sql(query, conn)\n",
    "    print(f\"Tabela {tabela}:\")\n",
    "    print(df.head())  \n",
    "    print(\"-\" * 50)\n",
    "    return df\n",
    "\n",
    "\n",
    "df_produtos = carregar_tabela(\"Produtos\")\n",
    "df_clientes = carregar_tabela(\"Clientes\")\n",
    "\n",
    "\n",
    "conn.close()"
   ]
  }
 ],
 "metadata": {
  "kernelspec": {
   "display_name": "Python 3",
   "language": "python",
   "name": "python3"
  },
  "language_info": {
   "codemirror_mode": {
    "name": "ipython",
    "version": 3
   },
   "file_extension": ".py",
   "mimetype": "text/x-python",
   "name": "python",
   "nbconvert_exporter": "python",
   "pygments_lexer": "ipython3",
   "version": "3.10.0"
  }
 },
 "nbformat": 4,
 "nbformat_minor": 2
}
