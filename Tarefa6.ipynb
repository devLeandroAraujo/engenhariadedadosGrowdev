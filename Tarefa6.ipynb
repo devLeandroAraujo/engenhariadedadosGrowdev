{
  "nbformat": 4,
  "nbformat_minor": 0,
  "metadata": {
    "colab": {
      "provenance": []
    },
    "kernelspec": {
      "name": "python3",
      "display_name": "Python 3"
    },
    "language_info": {
      "name": "python"
    }
  },
  "cells": [
    {
      "cell_type": "markdown",
      "source": [
        "![Growdev](https://www.growdev.com.br/assets/images/logo_growdev.png)"
      ],
      "metadata": {
        "id": "v8pFWwviib2C"
      }
    },
    {
      "cell_type": "markdown",
      "source": [
        "![Formação Engenharia de Dados](https://d335luupugsy2.cloudfront.net/cms/files/524558/1707226566/$occu5m8t1op)"
      ],
      "metadata": {
        "id": "6Tkl4_HxifXZ"
      }
    },
    {
      "cell_type": "markdown",
      "source": [
        "Este material tem como objetivo incentivar a prática dos conteúdos estudados até o momento, e a pesquisa. Tenha em consideração que o exercício foi pensado para incentivar a prática dos conteúdos estudados até então, porém aprender a pesquisar faz parte do processo de aprendizagem.\n",
        "\n",
        "Fique tranquilo, faça os exercícios com calma, e boa prática!\n"
      ],
      "metadata": {
        "id": "ty7Bzyl1i9bN"
      }
    },
    {
      "cell_type": "markdown",
      "source": [
        "#Orientações:\n",
        "\n",
        " - Faça uma copia deste arquivo\n",
        " - Após concluir os exercicios, suba seu exercicio para o GitHub e compartilhe o link no **google** Classroom\n"
      ],
      "metadata": {
        "id": "DU5-yCQwjx3V"
      }
    },
    {
      "cell_type": "markdown",
      "source": [
        "\n",
        "Utilize o dataset contido nesse [link](https://www.kaggle.com/datasets/upadorprofzs/testes), e responda as questões abaixo.\n",
        "\n",
        "O dataset contém dados estatísticos do IBGE relativos à escolaridade, renda entre outros campos avaliados pela  PNAD (Pesquisa Nacional por Amostra de Domicílios).\n",
        "\n",
        "Os dados podem representar informações relevantes e reveladoras sobre a distribuição de renda e possivelmente alguns indicadores sobre tais situações encontradas a partir dos dados."
      ],
      "metadata": {
        "id": "jPJ5hyxa2cos"
      }
    },
    {
      "cell_type": "markdown",
      "source": [
        "#Exercícios"
      ],
      "metadata": {
        "id": "EzT810tnlmfE"
      }
    },
    {
      "cell_type": "markdown",
      "source": [
        "Qual a quantidade de pessoas nas seguintes faixas etárias\n",
        "- 20 anos ou menos\n",
        "- 21 a 35 anos\n",
        "- 36 a 50 anos\n",
        "- 51 a 65 anos\n",
        "- maiores de 65 anos\n",
        "\n"
      ],
      "metadata": {
        "id": "sYEv1vohLu34"
      }
    },
    {
      "cell_type": "code",
      "source": [],
      "metadata": {
        "id": "0drCl45SMELV"
      },
      "execution_count": null,
      "outputs": []
    },
    {
      "cell_type": "markdown",
      "source": [
        "Qual é a média de escolaridade em cada faixa etária?\n"
      ],
      "metadata": {
        "id": "6y7X1dc-MFr1"
      }
    },
    {
      "cell_type": "code",
      "source": [],
      "metadata": {
        "id": "6X6M5T7EMb-G"
      },
      "execution_count": null,
      "outputs": []
    },
    {
      "cell_type": "markdown",
      "source": [
        "Qual a UF que concentra a maior renda?\n"
      ],
      "metadata": {
        "id": "FgEq2x_mMicx"
      }
    },
    {
      "cell_type": "code",
      "source": [],
      "metadata": {
        "id": "EFe-4pq8NGRf"
      },
      "execution_count": null,
      "outputs": []
    },
    {
      "cell_type": "markdown",
      "source": [
        "Qual a renda média de pessoas pretas e brancas de homens e mulheres?\n"
      ],
      "metadata": {
        "id": "VFXayO6DNJ3F"
      }
    },
    {
      "cell_type": "code",
      "source": [],
      "metadata": {
        "id": "JUO0B9kWNcCX"
      },
      "execution_count": null,
      "outputs": []
    },
    {
      "cell_type": "markdown",
      "source": [
        "Qual a renda média concentrada em cada faixa etária?\n",
        "\n",
        "\n"
      ],
      "metadata": {
        "id": "aqaMxrGMNhQv"
      }
    },
    {
      "cell_type": "code",
      "source": [],
      "metadata": {
        "id": "yoT1FXJSzKwj"
      },
      "execution_count": null,
      "outputs": []
    },
    {
      "cell_type": "markdown",
      "source": [
        "Qual a renda média nas faixas de anos de estudo abaixo?\n",
        "- 2 anos ou menos\n",
        "- 3 a 6 anos\n",
        "- 7 a 10 anos\n",
        "- 10 a 12 anos\n",
        "- 13 anos ou mais\n"
      ],
      "metadata": {
        "id": "jMjZzRxr29TF"
      }
    },
    {
      "cell_type": "code",
      "source": [],
      "metadata": {
        "id": "ZWpciLPN3Ckx"
      },
      "execution_count": null,
      "outputs": []
    },
    {
      "cell_type": "markdown",
      "source": [
        "Qual a escolaridade entre indígenas, para homens e mulheres?\n"
      ],
      "metadata": {
        "id": "fDxIIqqS3DHs"
      }
    },
    {
      "cell_type": "code",
      "source": [],
      "metadata": {
        "id": "M85a5qNt3E2y"
      },
      "execution_count": null,
      "outputs": []
    },
    {
      "cell_type": "markdown",
      "source": [
        "Qual a média de anos de estudo entre brancos e negros?\n"
      ],
      "metadata": {
        "id": "hgqYfhU33FtF"
      }
    },
    {
      "cell_type": "code",
      "source": [],
      "metadata": {
        "id": "EK9X8wTZ3UdS"
      },
      "execution_count": null,
      "outputs": []
    },
    {
      "cell_type": "markdown",
      "source": [
        "Qual a média de anos de estudo e de renda para mulheres brancas, e para mulheres negras?"
      ],
      "metadata": {
        "id": "_ZjroKKB3WBx"
      }
    },
    {
      "cell_type": "code",
      "source": [],
      "metadata": {
        "id": "7dx7zW7M3Wau"
      },
      "execution_count": null,
      "outputs": []
    },
    {
      "cell_type": "markdown",
      "source": [
        " Qual é a UF com maior média de escolaridade e qual a UF com maior média de renda?"
      ],
      "metadata": {
        "id": "sG2Kkkrd3X5V"
      }
    },
    {
      "cell_type": "code",
      "source": [],
      "metadata": {
        "id": "imgwaOGk3YNq"
      },
      "execution_count": null,
      "outputs": []
    },
    {
      "cell_type": "markdown",
      "source": [
        "Elabore você uma pergunta sobre a base de dados e escreva o código para responder a pergunta."
      ],
      "metadata": {
        "id": "72Oy_JJ_3Z7F"
      }
    },
    {
      "cell_type": "code",
      "source": [],
      "metadata": {
        "id": "YZFVy7UM3aPC"
      },
      "execution_count": null,
      "outputs": []
    }
  ]
}