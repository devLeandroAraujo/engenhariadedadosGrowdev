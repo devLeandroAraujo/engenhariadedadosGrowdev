{
  "cells": [
    {
      "cell_type": "markdown",
      "metadata": {
        "id": "v8pFWwviib2C"
      },
      "source": [
        "![Growdev](https://www.growdev.com.br/assets/images/logo_growdev.png)"
      ]
    },
    {
      "cell_type": "markdown",
      "metadata": {
        "id": "6Tkl4_HxifXZ"
      },
      "source": [
        "![Formação Engenharia de Dados](https://d335luupugsy2.cloudfront.net/cms/files/524558/1707226566/$occu5m8t1op)"
      ]
    },
    {
      "cell_type": "markdown",
      "metadata": {
        "id": "ty7Bzyl1i9bN"
      },
      "source": [
        "Este material tem como objetivo incentivar a prática dos conteúdos estudados até o momento, e a pesquisa. Tenha em consideração que o exercício foi pensado para incentivar a prática dos conteúdos estudados até então, porém aprender a pesquisar faz parte do processo de aprendizagem.\n",
        "\n",
        "Fique tranquilo, faça os exercícios com calma, e boa prática!\n"
      ]
    },
    {
      "cell_type": "markdown",
      "metadata": {
        "id": "DU5-yCQwjx3V"
      },
      "source": [
        "#Orientações:\n",
        "\n",
        " - Faça uma copia deste arquivo\n",
        " - Após concluir os exercicios, suba seu exercicio para o GitHub e compartilhe o link no **google** Classroom\n"
      ]
    },
    {
      "cell_type": "markdown",
      "metadata": {
        "id": "jPJ5hyxa2cos"
      },
      "source": [
        "\n",
        "Utilize o dataset contido nesse [link](https://www.kaggle.com/datasets/upadorprofzs/testes), e responda as questões abaixo.\n",
        "\n",
        "O dataset contém dados estatísticos do IBGE relativos à escolaridade, renda entre outros campos avaliados pela  PNAD (Pesquisa Nacional por Amostra de Domicílios).\n",
        "\n",
        "Os dados podem representar informações relevantes e reveladoras sobre a distribuição de renda e possivelmente alguns indicadores sobre tais situações encontradas a partir dos dados."
      ]
    },
    {
      "cell_type": "markdown",
      "metadata": {
        "id": "EzT810tnlmfE"
      },
      "source": [
        "#Exercícios"
      ]
    },
    {
      "cell_type": "code",
      "execution_count": 1,
      "metadata": {},
      "outputs": [],
      "source": [
        "import pandas as pd"
      ]
    },
    {
      "cell_type": "code",
      "execution_count": 3,
      "metadata": {},
      "outputs": [
        {
          "data": {
            "text/html": [
              "<div>\n",
              "<style scoped>\n",
              "    .dataframe tbody tr th:only-of-type {\n",
              "        vertical-align: middle;\n",
              "    }\n",
              "\n",
              "    .dataframe tbody tr th {\n",
              "        vertical-align: top;\n",
              "    }\n",
              "\n",
              "    .dataframe thead th {\n",
              "        text-align: right;\n",
              "    }\n",
              "</style>\n",
              "<table border=\"1\" class=\"dataframe\">\n",
              "  <thead>\n",
              "    <tr style=\"text-align: right;\">\n",
              "      <th></th>\n",
              "      <th>UF</th>\n",
              "      <th>Sexo</th>\n",
              "      <th>Idade</th>\n",
              "      <th>Cor</th>\n",
              "      <th>Anos de Estudo</th>\n",
              "      <th>Renda</th>\n",
              "      <th>Altura</th>\n",
              "    </tr>\n",
              "  </thead>\n",
              "  <tbody>\n",
              "    <tr>\n",
              "      <th>0</th>\n",
              "      <td>11</td>\n",
              "      <td>0</td>\n",
              "      <td>23</td>\n",
              "      <td>8</td>\n",
              "      <td>12</td>\n",
              "      <td>800</td>\n",
              "      <td>1.603808</td>\n",
              "    </tr>\n",
              "    <tr>\n",
              "      <th>1</th>\n",
              "      <td>11</td>\n",
              "      <td>1</td>\n",
              "      <td>23</td>\n",
              "      <td>2</td>\n",
              "      <td>12</td>\n",
              "      <td>1150</td>\n",
              "      <td>1.739790</td>\n",
              "    </tr>\n",
              "    <tr>\n",
              "      <th>2</th>\n",
              "      <td>11</td>\n",
              "      <td>1</td>\n",
              "      <td>35</td>\n",
              "      <td>8</td>\n",
              "      <td>15</td>\n",
              "      <td>880</td>\n",
              "      <td>1.760444</td>\n",
              "    </tr>\n",
              "    <tr>\n",
              "      <th>3</th>\n",
              "      <td>11</td>\n",
              "      <td>0</td>\n",
              "      <td>46</td>\n",
              "      <td>2</td>\n",
              "      <td>6</td>\n",
              "      <td>3500</td>\n",
              "      <td>1.783158</td>\n",
              "    </tr>\n",
              "    <tr>\n",
              "      <th>4</th>\n",
              "      <td>11</td>\n",
              "      <td>1</td>\n",
              "      <td>47</td>\n",
              "      <td>8</td>\n",
              "      <td>9</td>\n",
              "      <td>150</td>\n",
              "      <td>1.690631</td>\n",
              "    </tr>\n",
              "  </tbody>\n",
              "</table>\n",
              "</div>"
            ],
            "text/plain": [
              "   UF  Sexo  Idade  Cor  Anos de Estudo  Renda    Altura\n",
              "0  11     0     23    8              12    800  1.603808\n",
              "1  11     1     23    2              12   1150  1.739790\n",
              "2  11     1     35    8              15    880  1.760444\n",
              "3  11     0     46    2               6   3500  1.783158\n",
              "4  11     1     47    8               9    150  1.690631"
            ]
          },
          "execution_count": 3,
          "metadata": {},
          "output_type": "execute_result"
        }
      ],
      "source": [
        "arquivo_csv = 'C:\\engenhariadedadosGrowdev\\Tarefa6dados.csv'\n",
        "df = pd.read_csv(arquivo_csv)\n",
        "df.head()"
      ]
    },
    {
      "cell_type": "code",
      "execution_count": 23,
      "metadata": {},
      "outputs": [
        {
          "data": {
            "text/plain": [
              "np.int64(0)"
            ]
          },
          "execution_count": 23,
          "metadata": {},
          "output_type": "execute_result"
        }
      ],
      "source": [
        "# Verificando se existe algum valor nulo na renda para calcular as médias\n",
        "df['Renda'].isnull().sum() "
      ]
    },
    {
      "cell_type": "markdown",
      "metadata": {
        "id": "sYEv1vohLu34"
      },
      "source": [
        "Qual a quantidade de pessoas nas seguintes faixas etárias\n",
        "- 20 anos ou menos\n",
        "- 21 a 35 anos\n",
        "- 36 a 50 anos\n",
        "- 51 a 65 anos\n",
        "- maiores de 65 anos\n",
        "\n"
      ]
    },
    {
      "cell_type": "code",
      "execution_count": 5,
      "metadata": {
        "id": "0drCl45SMELV"
      },
      "outputs": [
        {
          "data": {
            "text/plain": [
              "{'20 anos ou menos': 764,\n",
              " '21 a 35 anos': 20654,\n",
              " '36 a 50 anos': 31770,\n",
              " '51 a 65 anos': 20006,\n",
              " 'Maiores de 65 anos': 3646}"
            ]
          },
          "execution_count": 5,
          "metadata": {},
          "output_type": "execute_result"
        }
      ],
      "source": [
        "faixa_etaria = [\n",
        "    (df['Idade'] <= 20, '20 anos ou menos'),\n",
        "    ((df['Idade'] > 20) & (df['Idade'] <= 35), '21 a 35 anos'),\n",
        "    ((df['Idade'] > 35) & (df['Idade'] <= 50), '36 a 50 anos'),\n",
        "    ((df['Idade'] > 50) & (df['Idade'] <= 65), '51 a 65 anos'),\n",
        "    (df['Idade'] > 65, 'Maiores de 65 anos')\n",
        "]\n",
        "\n",
        "\n",
        "quant_faixa_etaria = {faixa: df[cond].shape[0] for cond, faixa in faixa_etaria}\n",
        "quant_faixa_etaria"
      ]
    },
    {
      "cell_type": "markdown",
      "metadata": {
        "id": "6y7X1dc-MFr1"
      },
      "source": [
        "Qual é a média de escolaridade em cada faixa etária?\n"
      ]
    },
    {
      "cell_type": "code",
      "execution_count": 15,
      "metadata": {
        "id": "6X6M5T7EMb-G"
      },
      "outputs": [
        {
          "name": "stdout",
          "output_type": "stream",
          "text": [
            "Faixa etária: 20 anos ou menos - Média de escolaridade: 9.70 anos\n",
            "Faixa etária: 21 a 35 anos - Média de escolaridade: 10.81 anos\n",
            "Faixa etária: 36 a 50 anos - Média de escolaridade: 9.76 anos\n",
            "Faixa etária: 51 a 65 anos - Média de escolaridade: 8.27 anos\n",
            "Faixa etária: Maiores de 65 anos - Média de escolaridade: 5.84 anos\n"
          ]
        }
      ],
      "source": [
        "# códigos de anos de estudo para agrupar\n",
        "df['Anos de Estudo Categoria'] = df['Anos de Estudo'].replace({\n",
        "    1: 'Sem instrução e menos de 1 ano',\n",
        "    2: '1 ano',\n",
        "    3: '2 anos',\n",
        "    4: '3 anos',\n",
        "    5: '4 anos',\n",
        "    6: '5 anos',\n",
        "    7: '6 anos',\n",
        "    8: '7 anos',\n",
        "    9: '8 anos',\n",
        "    10: '9 anos',\n",
        "    11: '10 anos',\n",
        "    12: '11 anos',\n",
        "    13: '12 anos',\n",
        "    14: '13 anos',\n",
        "    15: '14 anos',\n",
        "    16: '15 anos ou mais',\n",
        "    17: 'Não determinados',\n",
        "})\n",
        "\n",
        "\n",
        "media_escolaridade_faixa = {faixa: df[cond]['Anos de Estudo'].mean() for cond, faixa in faixa_etaria}\n",
        "\n",
        "for faixa, media in media_escolaridade_faixa.items():\n",
        "    print(f\"Faixa etária: {faixa} - Média de escolaridade: {media:.2f} anos\")"
      ]
    },
    {
      "cell_type": "markdown",
      "metadata": {
        "id": "FgEq2x_mMicx"
      },
      "source": [
        "Qual a UF que concentra a maior renda?\n"
      ]
    },
    {
      "cell_type": "code",
      "execution_count": 52,
      "metadata": {
        "id": "EFe-4pq8NGRf"
      },
      "outputs": [
        {
          "name": "stdout",
          "output_type": "stream",
          "text": [
            "UF com maior renda: Distrito Federal, Renda média: 4241.95\n"
          ]
        }
      ],
      "source": [
        "# Incluir os nomes dos UFs pelos códigos fornecidos na pesquisa do IBGE\n",
        "uf_cod = {\n",
        "    11: 'Rondônia', 12: 'Acre', 13: 'Amazonas', 14: 'Roraima', 15: 'Pará',\n",
        "    16: 'Amapá', 17: 'Tocantins', 21: 'Maranhão', 22: 'Piauí', 23: 'Ceará',\n",
        "    24: 'Rio Grande do Norte', 25: 'Paraíba', 26: 'Pernambuco', 27: 'Alagoas',\n",
        "    28: 'Sergipe', 29: 'Bahia', 31: 'Minas Gerais', 32: 'Espírito Santo',\n",
        "    33: 'Rio de Janeiro', 35: 'São Paulo', 41: 'Paraná', 42: 'Santa Catarina',\n",
        "    43: 'Rio Grande do Sul', 50: 'Mato Grosso do Sul', 51: 'Mato Grosso',\n",
        "    52: 'Goiás', 53: 'Distrito Federal'\n",
        "}\n",
        "\n",
        "# Substituir os códigos numéricos pelos dos estados para melhor visualização.\n",
        "df['UF Nome'] = df['UF'].replace(uf_cod) \n",
        "\n",
        "renda_media_por_uf = df.groupby('UF Nome')['Renda'].mean()\n",
        "\n",
        "uf_maior_renda = renda_media_por_uf.idxmax()\n",
        "maior_renda_media = renda_media_por_uf.max()\n",
        "\n",
        "print(f\"UF com maior renda: {uf_maior_renda}, Renda média: {maior_renda_media:.2f}\")\n"
      ]
    },
    {
      "cell_type": "markdown",
      "metadata": {
        "id": "VFXayO6DNJ3F"
      },
      "source": [
        "Qual a renda média de pessoas pretas e brancas de homens e mulheres?\n"
      ]
    },
    {
      "cell_type": "code",
      "execution_count": 53,
      "metadata": {
        "id": "JUO0B9kWNcCX"
      },
      "outputs": [
        {
          "name": "stdout",
          "output_type": "stream",
          "text": [
            "Sexo            0           1\n",
            "Cor                          \n",
            "2     2925.744435  2109.86675\n",
            "4     1603.861687  1134.59640\n"
          ]
        }
      ],
      "source": [
        "# Assumindo que  o código de 'Cor' 2 é para brancos e 'Cor' 4 é para pretos\n",
        "# E que 'Sexo' 0 é masculino e 1 é feminino\n",
        "\n",
        "renda_media_por_grupo = df.groupby(['Cor', 'Sexo'])['Renda'].mean().unstack()\n",
        "\n",
        "renda_media_pretos_brancos = renda_media_por_grupo.loc[[2, 4]]\n",
        "\n",
        "print(renda_media_pretos_brancos)"
      ]
    },
    {
      "cell_type": "markdown",
      "metadata": {
        "id": "aqaMxrGMNhQv"
      },
      "source": [
        "Qual a renda média concentrada em cada faixa etária?\n",
        "\n",
        "\n"
      ]
    },
    {
      "cell_type": "code",
      "execution_count": 54,
      "metadata": {
        "id": "yoT1FXJSzKwj"
      },
      "outputs": [
        {
          "name": "stdout",
          "output_type": "stream",
          "text": [
            "Faixa etária: 20 anos ou menos - Renda média: R$ 985.35\n",
            "Faixa etária: 21 a 35 anos - Renda média: R$ 1748.29\n",
            "Faixa etária: 36 a 50 anos - Renda média: R$ 2113.76\n",
            "Faixa etária: 51 a 65 anos - Renda média: R$ 2150.20\n",
            "Faixa etária: Maiores de 65 anos - Renda média: R$ 1831.23\n"
          ]
        }
      ],
      "source": [
        "renda_media_faixa = {faixa: df[cond]['Renda'].mean() for cond, faixa in faixa_etaria}\n",
        "\n",
        "for faixa, renda in renda_media_faixa.items():\n",
        "    print(f\"Faixa etária: {faixa} - Renda média: R$ {renda:.2f}\")"
      ]
    },
    {
      "cell_type": "code",
      "execution_count": 55,
      "metadata": {},
      "outputs": [
        {
          "data": {
            "text/html": [
              "<div>\n",
              "<style scoped>\n",
              "    .dataframe tbody tr th:only-of-type {\n",
              "        vertical-align: middle;\n",
              "    }\n",
              "\n",
              "    .dataframe tbody tr th {\n",
              "        vertical-align: top;\n",
              "    }\n",
              "\n",
              "    .dataframe thead th {\n",
              "        text-align: right;\n",
              "    }\n",
              "</style>\n",
              "<table border=\"1\" class=\"dataframe\">\n",
              "  <thead>\n",
              "    <tr style=\"text-align: right;\">\n",
              "      <th></th>\n",
              "      <th>UF</th>\n",
              "      <th>Sexo</th>\n",
              "      <th>Idade</th>\n",
              "      <th>Cor</th>\n",
              "      <th>Anos de Estudo</th>\n",
              "      <th>Renda</th>\n",
              "      <th>Altura</th>\n",
              "      <th>Anos de Estudo Categoria</th>\n",
              "      <th>UF Nome</th>\n",
              "    </tr>\n",
              "  </thead>\n",
              "  <tbody>\n",
              "    <tr>\n",
              "      <th>0</th>\n",
              "      <td>11</td>\n",
              "      <td>0</td>\n",
              "      <td>23</td>\n",
              "      <td>8</td>\n",
              "      <td>12</td>\n",
              "      <td>800</td>\n",
              "      <td>1.603808</td>\n",
              "      <td>11 anos</td>\n",
              "      <td>Rondônia</td>\n",
              "    </tr>\n",
              "    <tr>\n",
              "      <th>1</th>\n",
              "      <td>11</td>\n",
              "      <td>1</td>\n",
              "      <td>23</td>\n",
              "      <td>2</td>\n",
              "      <td>12</td>\n",
              "      <td>1150</td>\n",
              "      <td>1.739790</td>\n",
              "      <td>11 anos</td>\n",
              "      <td>Rondônia</td>\n",
              "    </tr>\n",
              "    <tr>\n",
              "      <th>2</th>\n",
              "      <td>11</td>\n",
              "      <td>1</td>\n",
              "      <td>35</td>\n",
              "      <td>8</td>\n",
              "      <td>15</td>\n",
              "      <td>880</td>\n",
              "      <td>1.760444</td>\n",
              "      <td>14 anos</td>\n",
              "      <td>Rondônia</td>\n",
              "    </tr>\n",
              "    <tr>\n",
              "      <th>3</th>\n",
              "      <td>11</td>\n",
              "      <td>0</td>\n",
              "      <td>46</td>\n",
              "      <td>2</td>\n",
              "      <td>6</td>\n",
              "      <td>3500</td>\n",
              "      <td>1.783158</td>\n",
              "      <td>5 anos</td>\n",
              "      <td>Rondônia</td>\n",
              "    </tr>\n",
              "    <tr>\n",
              "      <th>4</th>\n",
              "      <td>11</td>\n",
              "      <td>1</td>\n",
              "      <td>47</td>\n",
              "      <td>8</td>\n",
              "      <td>9</td>\n",
              "      <td>150</td>\n",
              "      <td>1.690631</td>\n",
              "      <td>8 anos</td>\n",
              "      <td>Rondônia</td>\n",
              "    </tr>\n",
              "  </tbody>\n",
              "</table>\n",
              "</div>"
            ],
            "text/plain": [
              "   UF  Sexo  Idade  Cor  Anos de Estudo  Renda    Altura  \\\n",
              "0  11     0     23    8              12    800  1.603808   \n",
              "1  11     1     23    2              12   1150  1.739790   \n",
              "2  11     1     35    8              15    880  1.760444   \n",
              "3  11     0     46    2               6   3500  1.783158   \n",
              "4  11     1     47    8               9    150  1.690631   \n",
              "\n",
              "  Anos de Estudo Categoria   UF Nome  \n",
              "0                  11 anos  Rondônia  \n",
              "1                  11 anos  Rondônia  \n",
              "2                  14 anos  Rondônia  \n",
              "3                   5 anos  Rondônia  \n",
              "4                   8 anos  Rondônia  "
            ]
          },
          "execution_count": 55,
          "metadata": {},
          "output_type": "execute_result"
        }
      ],
      "source": [
        "df.head()"
      ]
    },
    {
      "cell_type": "markdown",
      "metadata": {
        "id": "jMjZzRxr29TF"
      },
      "source": [
        "Qual a renda média nas faixas de anos de estudo abaixo?\n",
        "- 2 anos ou menos\n",
        "- 3 a 6 anos\n",
        "- 7 a 10 anos\n",
        "- 10 a 12 anos\n",
        "- 13 anos ou mais\n"
      ]
    },
    {
      "cell_type": "code",
      "execution_count": 38,
      "metadata": {},
      "outputs": [
        {
          "name": "stdout",
          "output_type": "stream",
          "text": [
            "2 anos ou menos: Renda Média = 768.58\n",
            "3 a 6 anos: Renda Média = 1126.11\n",
            "7 a 10 anos: Renda Média = 1370.89\n",
            "10 a 12 anos: Renda Média = 1809.78\n",
            "13 anos ou mais: Renda Média = 4434.41\n"
          ]
        }
      ],
      "source": [
        "faixa_ano_estudo = [\n",
        "    (df['Anos de Estudo'].isin([1, 2, 3]), '2 anos ou menos'),\n",
        "    (df['Anos de Estudo'].isin([4, 5, 6]), '3 a 6 anos'),\n",
        "    (df['Anos de Estudo'].isin([7, 8, 9, 10]), '7 a 10 anos'),\n",
        "    (df['Anos de Estudo'].isin([11, 12]), '10 a 12 anos'),\n",
        "    (df['Anos de Estudo'].isin([13, 14, 15, 16, 17]), '13 anos ou mais')\n",
        "]\n",
        "\n",
        "renda_media_anos_estudo = {}\n",
        "\n",
        "for cond, faixa in faixa_ano_estudo:\n",
        "    renda_media = df[cond]['Renda'].mean() \n",
        "    renda_media_anos_estudo[faixa] = renda_media \n",
        "\n",
        "for faixa, media in renda_media_anos_estudo.items():\n",
        "    print(f\"{faixa}: Renda Média = {media:.2f}\")"
      ]
    },
    {
      "cell_type": "markdown",
      "metadata": {
        "id": "fDxIIqqS3DHs"
      },
      "source": [
        "Qual a escolaridade entre indígenas, para homens e mulheres?\n"
      ]
    },
    {
      "cell_type": "code",
      "execution_count": 39,
      "metadata": {
        "id": "M85a5qNt3E2y"
      },
      "outputs": [
        {
          "name": "stdout",
          "output_type": "stream",
          "text": [
            "Sexo\n",
            "0    7.875000\n",
            "1    9.108911\n",
            "Name: Anos de Estudo, dtype: float64\n"
          ]
        }
      ],
      "source": [
        " #código de 'Cor' para indígenas é 0 de acordo com a tabela do IBGE\n",
        "escolaridade_indigenas = df[df['Cor'] == 0].groupby('Sexo')['Anos de Estudo'].mean()\n",
        "\n",
        "print(escolaridade_indigenas)"
      ]
    },
    {
      "cell_type": "markdown",
      "metadata": {
        "id": "hgqYfhU33FtF"
      },
      "source": [
        "Qual a média de anos de estudo entre brancos e negros?\n"
      ]
    },
    {
      "cell_type": "code",
      "execution_count": 40,
      "metadata": {
        "id": "EK9X8wTZ3UdS"
      },
      "outputs": [
        {
          "name": "stdout",
          "output_type": "stream",
          "text": [
            "Cor\n",
            "2    10.490303\n",
            "4     8.861518\n",
            "Name: Anos de Estudo, dtype: float64\n"
          ]
        }
      ],
      "source": [
        "anos_estudo_brancos_pretos = df[df['Cor'].isin([2, 4])].groupby('Cor')['Anos de Estudo'].mean()\n",
        "\n",
        "print(anos_estudo_brancos_pretos)"
      ]
    },
    {
      "cell_type": "markdown",
      "metadata": {
        "id": "_ZjroKKB3WBx"
      },
      "source": [
        "Qual a média de anos de estudo e de renda para mulheres brancas, e para mulheres negras?"
      ]
    },
    {
      "cell_type": "code",
      "execution_count": 41,
      "metadata": {
        "id": "7dx7zW7M3Wau"
      },
      "outputs": [
        {
          "name": "stdout",
          "output_type": "stream",
          "text": [
            "     Anos de Estudo       Renda\n",
            "Cor                            \n",
            "2         11.297578  2109.86675\n",
            "4          9.522326  1134.59640\n"
          ]
        }
      ],
      "source": [
        "mulheres_brancas_pretas = df[(df['Sexo'] == 1) & (df['Cor'].isin([2, 4]))]\n",
        "\n",
        "media_estudo_renda_mulheres = mulheres_brancas_pretas.groupby('Cor')[['Anos de Estudo', 'Renda']].mean()\n",
        "\n",
        "print(media_estudo_renda_mulheres)"
      ]
    },
    {
      "cell_type": "markdown",
      "metadata": {
        "id": "sG2Kkkrd3X5V"
      },
      "source": [
        " Qual é a UF com maior média de escolaridade e qual a UF com maior média de renda?"
      ]
    },
    {
      "cell_type": "code",
      "execution_count": 57,
      "metadata": {
        "id": "imgwaOGk3YNq"
      },
      "outputs": [
        {
          "name": "stdout",
          "output_type": "stream",
          "text": [
            "UF com maior média de escolaridade: Distrito Federal\n",
            "UF com maior média de renda: Distrito Federal\n"
          ]
        }
      ],
      "source": [
        "escolaridade_media_por_uf = df.groupby('UF Nome')['Anos de Estudo'].mean()\n",
        "uf_maior_escolaridade = escolaridade_media_por_uf.idxmax()\n",
        "\n",
        "renda_media_por_uf = df.groupby('UF Nome')['Renda'].mean()\n",
        "uf_maior_renda = renda_media_por_uf.idxmax()\n",
        "\n",
        "print(f\"UF com maior média de escolaridade: {uf_maior_escolaridade}\")\n",
        "print(f\"UF com maior média de renda: {uf_maior_renda}\")\n"
      ]
    },
    {
      "cell_type": "markdown",
      "metadata": {
        "id": "72Oy_JJ_3Z7F"
      },
      "source": [
        "Elabore você uma pergunta sobre a base de dados e escreva o código para responder a pergunta."
      ]
    },
    {
      "cell_type": "code",
      "execution_count": 59,
      "metadata": {
        "id": "YZFVy7UM3aPC"
      },
      "outputs": [
        {
          "name": "stdout",
          "output_type": "stream",
          "text": [
            "Média de altura por UF:\n",
            "UF Nome\n",
            "Acre                   1.699113\n",
            "Alagoas                1.693907\n",
            "Amapá                  1.697891\n",
            "Amazonas               1.699454\n",
            "Bahia                  1.699282\n",
            "Ceará                  1.700317\n",
            "Distrito Federal       1.700896\n",
            "Espírito Santo         1.701513\n",
            "Goiás                  1.699623\n",
            "Maranhão               1.699708\n",
            "Mato Grosso            1.698339\n",
            "Mato Grosso do Sul     1.700184\n",
            "Minas Gerais           1.699988\n",
            "Paraná                 1.699434\n",
            "Paraíba                1.699266\n",
            "Pará                   1.698197\n",
            "Pernambuco             1.698141\n",
            "Piauí                  1.700189\n",
            "Rio Grande do Norte    1.699135\n",
            "Rio Grande do Sul      1.698710\n",
            "Rio de Janeiro         1.700365\n",
            "Rondônia               1.703967\n",
            "Roraima                1.698680\n",
            "Santa Catarina         1.698933\n",
            "Sergipe                1.702222\n",
            "São Paulo              1.699321\n",
            "Tocantins              1.699969\n",
            "Name: Altura, dtype: float64\n",
            "UF com maior média de altura: Rondônia, Altura média: 1.70 cm\n"
          ]
        }
      ],
      "source": [
        "#Qual a média de altura por UF?\n",
        "\n",
        "altura_media_por_uf = df.groupby('UF Nome')['Altura'].mean()\n",
        "\n",
        "uf_maior_altura = altura_media_por_uf.idxmax()\n",
        "maior_altura_media = altura_media_por_uf.max()\n",
        "\n",
        "print(f\"Média de altura por UF:\\n{altura_media_por_uf}\")\n",
        "print(f\"UF com maior média de altura: {uf_maior_altura}, Altura média: {maior_altura_media:.2f} cm\")"
      ]
    }
  ],
  "metadata": {
    "colab": {
      "provenance": []
    },
    "kernelspec": {
      "display_name": "Python 3",
      "name": "python3"
    },
    "language_info": {
      "codemirror_mode": {
        "name": "ipython",
        "version": 3
      },
      "file_extension": ".py",
      "mimetype": "text/x-python",
      "name": "python",
      "nbconvert_exporter": "python",
      "pygments_lexer": "ipython3",
      "version": "3.11.9"
    }
  },
  "nbformat": 4,
  "nbformat_minor": 0
}
