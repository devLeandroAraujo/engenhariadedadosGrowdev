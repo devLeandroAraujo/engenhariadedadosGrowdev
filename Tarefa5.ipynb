{
  "cells": [
    {
      "cell_type": "markdown",
      "metadata": {
        "id": "v8pFWwviib2C"
      },
      "source": [
        "![Growdev](https://www.growdev.com.br/assets/images/logo_growdev.png)"
      ]
    },
    {
      "cell_type": "markdown",
      "metadata": {
        "id": "6Tkl4_HxifXZ"
      },
      "source": [
        "![Formação Engenharia de Dados](https://d335luupugsy2.cloudfront.net/cms/files/524558/1707226566/$occu5m8t1op)"
      ]
    },
    {
      "cell_type": "markdown",
      "metadata": {
        "id": "ty7Bzyl1i9bN"
      },
      "source": [
        "Este material tem como objetivo incentivar a prática dos conteúdos estudados até o momento, e a pesquisa. Tenha em consideração que o exercício foi pensado para incentivar a prática dos conteúdos estudados até então, porém aprender a pesquisar faz parte do processo de aprendizagem.\n",
        "\n",
        "Fique tranquilo, faça os exercícios com calma, e boa prática!\n"
      ]
    },
    {
      "cell_type": "markdown",
      "metadata": {
        "id": "DU5-yCQwjx3V"
      },
      "source": [
        "#Orientações:\n",
        "\n",
        " - Faça uma copia deste arquivo\n",
        " - Após concluir os exercicios, suba seu exercicio para o GitHub e compartilhe o link no **google** Classroom\n"
      ]
    },
    {
      "cell_type": "markdown",
      "metadata": {
        "id": "EzT810tnlmfE"
      },
      "source": [
        "#Exercícios"
      ]
    },
    {
      "cell_type": "markdown",
      "metadata": {
        "id": "rDqBAimhSq_C"
      },
      "source": [
        "#Funções"
      ]
    },
    {
      "cell_type": "markdown",
      "metadata": {
        "id": "AkBqdNST8bCY"
      },
      "source": [
        "Escreva uma função chamada soma que recebe dois números como parâmetros e retorna a soma deles"
      ]
    },
    {
      "cell_type": "code",
      "execution_count": null,
      "metadata": {
        "id": "J427Pi2p8THC"
      },
      "outputs": [],
      "source": [
        "def soma():\n",
        "    numero1 = int(input(\"Digite o primeiro número: \"))\n",
        "    numero2 = int(input(\"Digite o segundo número: \"))\n",
        "    return numero1 + numero2\n",
        "\n",
        "resultado = soma()\n",
        "print(\"A soma dos números é:\", resultado)"
      ]
    },
    {
      "cell_type": "markdown",
      "metadata": {
        "id": "NAa3MBAM830W"
      },
      "source": [
        "Escreva uma função chamada verificar_paridade que recebe um número como parâmetro e retorna True se for par e False se for ímpar."
      ]
    },
    {
      "cell_type": "code",
      "execution_count": null,
      "metadata": {
        "id": "CRlV5NE82kpE"
      },
      "outputs": [],
      "source": [
        "def verificar_paridade():\n",
        "    numero = int(input(\"Digite um número: \"))\n",
        "    if numero % 2 == 0:\n",
        "        return True\n",
        "    else:\n",
        "        return False\n",
        "\n",
        "resultado = verificar_paridade()\n",
        "if resultado:\n",
        "    print(\"O número é par.\")\n",
        "else:\n",
        "    print(\"O número é ímpar.\")"
      ]
    },
    {
      "cell_type": "markdown",
      "metadata": {
        "id": "S7Rh1p4N8_dp"
      },
      "source": [
        "Escreva uma função chamada verificar_palindromo que recebe uma string como parâmetro e retorna True se for um palíndromo (uma palavra que é igual se lida da esquerda para a direita e vice-versa) e False caso contrário."
      ]
    },
    {
      "cell_type": "code",
      "execution_count": null,
      "metadata": {
        "id": "jY3rGEWc9Gb5"
      },
      "outputs": [],
      "source": [
        "def verificar_palindromo():\n",
        "    palavra = input(\"Digite uma palavra: \")\n",
        "    n = len(palavra)\n",
        "    for i in range(n // 2):\n",
        "        if palavra[i] != palavra[n - i - 1]:\n",
        "            return palavra, False\n",
        "    return palavra, True\n",
        "\n",
        "palavra, resultado = verificar_palindromo()\n",
        "\n",
        "if resultado:\n",
        "    print(f\"A palavra '{palavra}' é um palíndromo.\")\n",
        "else:\n",
        "    print(f\"A palavra '{palavra}' não é um palíndromo.\")"
      ]
    },
    {
      "cell_type": "markdown",
      "metadata": {
        "id": "suLU217H9G51"
      },
      "source": [
        "##Desafio listas e funções:"
      ]
    },
    {
      "cell_type": "markdown",
      "metadata": {
        "id": "zv3Edx_T-TF5"
      },
      "source": [
        "Crie uma função que representa o jogo batalha naval.\n",
        "\n",
        "Dentro da função crie uma estrutura bidimensional utilizando listas com sublistas para representar um tabuleiro (1 lista com 20 elementos e cada elemento é uma lista de 20 elementos, tabuleiro 20x20). Cada posição irá armazenar 1 valor numérico que significa:\n",
        "- 0 - Água\n",
        "- 1 - Navio\n",
        "\n",
        "Para cada posição escolha esses valores aleatoriamente, respeitando a regra de que não podem existir mais de 20 navios no tabuleiro.\n",
        "\n",
        "Após os valores serem distribuídos, o programa deve pedir ao usuário uma posição do tabuleiro e informar se ele acertou um navio ou água e repetir o procedimento até que o usuário derrote todos os navios ou chegue ao limite de 35 tentativas.\n",
        "\n"
      ]
    },
    {
      "cell_type": "code",
      "execution_count": null,
      "metadata": {
        "id": "BhHWwg54-H1j"
      },
      "outputs": [],
      "source": [
        "import random\n",
        "\n",
        "def criar_tabuleiro():\n",
        "    tabuleiro = [[0 for _ in range(20)] for _ in range(20)]\n",
        "    navios_colocados = 0\n",
        "    \n",
        "    while navios_colocados < 20:\n",
        "        linha = random.randint(0, 19)\n",
        "        coluna = random.randint(0, 19)\n",
        "\n",
        "        if tabuleiro[linha][coluna] == 0:\n",
        "            tabuleiro[linha][coluna] = 1\n",
        "            navios_colocados += 1\n",
        "\n",
        "    return tabuleiro"
      ]
    },
    {
      "cell_type": "code",
      "execution_count": null,
      "metadata": {},
      "outputs": [],
      "source": [
        "def imprimir_tabuleiro(tabuleiro):\n",
        "    print(\"Tabuleiro:\")\n",
        "    for linha in tabuleiro:\n",
        "        linha_formatada = ['1' if x == 1 else 'O' for x in linha]\n",
        "        print(\" \".join(linha_formatada))\n",
        "    print()"
      ]
    },
    {
      "cell_type": "code",
      "execution_count": null,
      "metadata": {},
      "outputs": [],
      "source": [
        "def jogo_batalha_naval():\n",
        "    tabuleiro = criar_tabuleiro()\n",
        "    tentativas = 0\n",
        "    navios_derrotados = 0\n",
        "\n",
        "    while tentativas < 35 and navios_derrotados < 20:\n",
        "\n",
        "        try:\n",
        "            linha = int(input(\"Escolha uma linha (0-19): \"))\n",
        "            coluna = int(input(\"Escolha uma coluna (0-19): \"))\n",
        "\n",
        "            if linha < 0 or linha > 19 or coluna < 0 or coluna > 19:\n",
        "                print(\"Posição inválida. Escolha uma linha e coluna entre 0 e 19.\")\n",
        "                continue\n",
        "\n",
        "            tentativas += 1\n",
        "\n",
        "            if tabuleiro[linha][coluna] == 1:\n",
        "                print(\"Você acertou um navio!\")\n",
        "                navios_derrotados += 1\n",
        "                tabuleiro[linha][coluna] = 0\n",
        "            else:\n",
        "                print(\"Você acertou água.\")\n",
        "\n",
        "        except ValueError:\n",
        "            print(\"Entrada inválida. Por favor, insira números inteiros.\")\n",
        "\n",
        "    if navios_derrotados == 20:\n",
        "        print(\"Parabéns! Você derrotou todos os navios!\")\n",
        "    else:\n",
        "        print(\"Fim de jogo. Você usou todas as suas tentativas.\")\n",
        "\n",
        "        imprimir_tabuleiro(tabuleiro)"
      ]
    },
    {
      "cell_type": "code",
      "execution_count": null,
      "metadata": {},
      "outputs": [],
      "source": [
        "jogo_batalha_naval()\n"
      ]
    },
    {
      "cell_type": "markdown",
      "metadata": {
        "id": "WUXJN6Dg_GET"
      },
      "source": [
        "Modifique o programa anterior para exibir as seguintes estatísticas.\n",
        "- Acertos em água\n",
        "- Acertos em Navios\n",
        "- Porcentagem de acertos em água\n",
        "- Porcentagem de acertos em Navios\n",
        "- Acertos ininterruptos (maior quantidade de acertos em sequência)"
      ]
    },
    {
      "cell_type": "code",
      "execution_count": null,
      "metadata": {
        "id": "N5itlDvd_Hbi"
      },
      "outputs": [],
      "source": [
        "import random\n",
        "\n",
        "def criar_tabuleiro():\n",
        "    tabuleiro = [[0 for _ in range(20)] for _ in range(20)]\n",
        "    navios_colocados = 0\n",
        "    \n",
        "    while navios_colocados < 20:\n",
        "        linha = random.randint(0, 19)\n",
        "        coluna = random.randint(0, 19)\n",
        "\n",
        "        if tabuleiro[linha][coluna] == 0:\n",
        "            tabuleiro[linha][coluna] = 1\n",
        "            navios_colocados += 1\n",
        "\n",
        "    return tabuleiro\n",
        "\n",
        "def imprimir_tabuleiro(tabuleiro):\n",
        "    print(\"Tabuleiro:\")\n",
        "    for linha in tabuleiro:\n",
        "        linha_formatada = ['1' if x == 1 else 'O' for x in linha]\n",
        "        print(\" \".join(linha_formatada))\n",
        "    print()\n",
        "\n",
        "def jogo_batalha_naval():\n",
        "    tabuleiro = criar_tabuleiro()\n",
        "    tentativas = 0\n",
        "    navios_derrotados = 0\n",
        "    acertos_agua = 0\n",
        "    acertos_navios = 0\n",
        "    acertos_ininterruptos = 0\n",
        "    maior_acertos_ininterruptos = 0\n",
        "    atu_acertos_ininterruptos = 0\n",
        "\n",
        "    while tentativas < 35 and navios_derrotados < 20:\n",
        "        imprimir_tabuleiro(tabuleiro)\n",
        "\n",
        "        try:\n",
        "            linha = int(input(\"Escolha uma linha (0-19): \"))\n",
        "            coluna = int(input(\"Escolha uma coluna (0-19): \"))\n",
        "\n",
        "            if linha < 0 or linha > 19 or coluna < 0 or coluna > 19:\n",
        "                print(\"Posição inválida. Escolha uma linha e coluna entre 0 e 19.\")\n",
        "                continue\n",
        "\n",
        "            tentativas += 1\n",
        "\n",
        "            if tabuleiro[linha][coluna] == 1:\n",
        "                print(\"Você acertou um navio!\")\n",
        "                navios_derrotados += 1\n",
        "                acertos_navios += 1\n",
        "                tabuleiro[linha][coluna] = 0\n",
        "                atu_acertos_ininterruptos += 1\n",
        "            else:\n",
        "                print(\"Você acertou água.\")\n",
        "                acertos_agua += 1\n",
        "                tabuleiro[linha][coluna] = -1\n",
        "                atu_acertos_ininterruptos = 0\n",
        "\n",
        "            if atu_acertos_ininterruptos > maior_acertos_ininterruptos:\n",
        "                maior_acertos_ininterruptos = atu_acertos_ininterruptos\n",
        "\n",
        "        except ValueError:\n",
        "            print(\"Entrada inválida. Por favor, insira números inteiros.\")\n",
        "\n",
        "    # Calcula porcentagens\n",
        "    porcentagem_acertos_navios = (acertos_navios / tentativas) * 100 if tentativas > 0 else 0\n",
        "    porcentagem_acertos_agua = (acertos_agua / tentativas) * 100 if tentativas > 0 else 0\n",
        "\n",
        "    # Exibe estatísticas\n",
        "    print(f\"\\nEstatísticas do Jogo:\")\n",
        "    print(f\"Acertos em navios: {acertos_navios}\")\n",
        "    print(f\"Acertos em água: {acertos_agua}\")\n",
        "    print(f\"Porcentagem de acertos em navios: {porcentagem_acertos_navios:.2f}%\")\n",
        "    print(f\"Porcentagem de acertos em água: {porcentagem_acertos_agua:.2f}%\")\n",
        "    print(f\"Maior número de acertos ininterruptos: {maior_acertos_ininterruptos}\")\n",
        "\n",
        "    if navios_derrotados == 20:\n",
        "        print(\"Parabéns! Você derrotou todos os navios!\")\n",
        "    else:\n",
        "        print(\"Fim de jogo. Você usou todas as suas tentativas.\")\n",
        "\n",
        "    imprimir_tabuleiro(tabuleiro)"
      ]
    },
    {
      "cell_type": "markdown",
      "metadata": {
        "id": "ffEKF4Kx5eQu"
      },
      "source": [
        "#Manipulação de arquivos: Conteudo será trabalhado na aula do"
      ]
    },
    {
      "cell_type": "markdown",
      "metadata": {
        "id": "IrQvRhQM5oj6"
      },
      "source": [
        "UUtilize o arquivo ‘compras.csv’ como base para resolver os seguintes exercícios.  disponivel em: https://drive.google.com/file/d/1cqqr7kWuBYYJxJ8W_-KHmcZHs6sfV_is/view"
      ]
    },
    {
      "cell_type": "markdown",
      "metadata": {
        "id": "J8g6sYrl3Xjg"
      },
      "source": [
        "Utilize as seguintes faixas etárias nos exercícios em que for necessário.\n",
        "- Jovens, 18 a 25 anos\n",
        "- Adultos, 26 a 59 anos\n",
        "- Idosos, igual ou maior que 60 anos\n"
      ]
    },
    {
      "cell_type": "markdown",
      "metadata": {
        "id": "ZJpTRgx3XdQd"
      },
      "source": [
        "Func lista"
      ]
    },
    {
      "cell_type": "code",
      "execution_count": null,
      "metadata": {
        "id": "Jh8PRzZpUaIZ"
      },
      "outputs": [],
      "source": [
        "import csv\n",
        "\n",
        "def ler_csv_para_lista(caminho_arquivo):\n",
        "    dados = []\n",
        "    with open(caminho_arquivo, newline='', encoding='utf-8') as csvfile:\n",
        "        leitor = csv.reader(csvfile)\n",
        "        cabecalho = next(leitor)\n",
        "        for linha in leitor:\n",
        "            dados.append(linha)\n",
        "    return cabecalho, dados"
      ]
    },
    {
      "cell_type": "code",
      "execution_count": null,
      "metadata": {
        "id": "b1l4pxW4Ubwe"
      },
      "outputs": [],
      "source": [
        "cabecalho, dados = ler_csv_para_lista('Tarefa5compras.csv')"
      ]
    },
    {
      "cell_type": "markdown",
      "metadata": {
        "id": "51LKHrRRXfhF"
      },
      "source": [
        "func dic"
      ]
    },
    {
      "cell_type": "code",
      "execution_count": null,
      "metadata": {
        "id": "EdtiIwqKVjtQ"
      },
      "outputs": [],
      "source": [
        "import csv\n",
        "\n",
        "def ler_csv_para_dicionario(caminho_arquivo):\n",
        "    dados = {}\n",
        "    with open(caminho_arquivo, newline='', encoding='utf-8') as csvfile:\n",
        "        leitor = csv.reader(csvfile)\n",
        "        cabecalho = next(leitor)  # Lê a linha de cabeçalho\n",
        "\n",
        "        for i, linha in enumerate(leitor):\n",
        "            individuo = {cabecalho[j]: linha[j] for j in range(len(cabecalho))}\n",
        "            dados[i] = individuo\n",
        "\n",
        "    return dados\n"
      ]
    },
    {
      "cell_type": "code",
      "execution_count": null,
      "metadata": {
        "id": "5_wCLU4DVlds"
      },
      "outputs": [],
      "source": [
        "dados_dicionario = ler_csv_para_dicionario('Tarefa5compras.csv')"
      ]
    },
    {
      "cell_type": "code",
      "execution_count": null,
      "metadata": {
        "id": "Ink56mcQVpNS"
      },
      "outputs": [],
      "source": [
        "import pprint"
      ]
    },
    {
      "cell_type": "markdown",
      "metadata": {
        "id": "apGpARF-3nW9"
      },
      "source": [
        "Procure quem foi a pessoa que mais gastou?"
      ]
    },
    {
      "cell_type": "markdown",
      "metadata": {
        "id": "lTCfBbOjXZYx"
      },
      "source": [
        "Com dic"
      ]
    },
    {
      "cell_type": "code",
      "execution_count": null,
      "metadata": {
        "id": "EPX_3cU33XOh"
      },
      "outputs": [],
      "source": [
        "def encontrar_maior_gasto(dados):\n",
        "    maior_gasto = 0\n",
        "    pessoa_maior_gasto = None\n",
        "\n",
        "    for individuo, info in dados.items():\n",
        "        gasto = float(info['compra'])\n",
        "        if gasto > maior_gasto:\n",
        "            maior_gasto = gasto\n",
        "            pessoa_maior_gasto = info\n",
        "    return pessoa_maior_gasto"
      ]
    },
    {
      "cell_type": "code",
      "execution_count": null,
      "metadata": {
        "id": "lEohRvDSWYlJ"
      },
      "outputs": [],
      "source": [
        "retorno = encontrar_maior_gasto(dados_dicionario)"
      ]
    },
    {
      "cell_type": "markdown",
      "metadata": {
        "id": "-WQ9JImSXa01"
      },
      "source": [
        "Com lista"
      ]
    },
    {
      "cell_type": "code",
      "execution_count": null,
      "metadata": {
        "id": "zTKcFQ6CXHDC"
      },
      "outputs": [],
      "source": [
        "def encontrar_maior_gasto_lista(cabecalho, dados):\n",
        "    indice_compra = cabecalho.index('compra')\n",
        "    maior_gasto = 0\n",
        "    pessoa_maior_gasto = None\n",
        "\n",
        "    for linha in dados:\n",
        "        gasto = float(linha[indice_compra])\n",
        "        if gasto > maior_gasto:\n",
        "            maior_gasto = gasto\n",
        "            pessoa_maior_gasto = linha\n",
        "\n",
        "    pessoa_info = {cabecalho[i]: pessoa_maior_gasto[i] for i in range(len(cabecalho))}\n",
        "    return pessoa_info"
      ]
    },
    {
      "cell_type": "code",
      "execution_count": null,
      "metadata": {
        "colab": {
          "base_uri": "https://localhost:8080/"
        },
        "id": "x4yRgjBfXOPF",
        "outputId": "ceeb29ba-61f8-455e-fa8b-6d4bb261828a"
      },
      "outputs": [],
      "source": [
        "encontrar_maior_gasto_lista(cabecalho, dados)"
      ]
    },
    {
      "cell_type": "markdown",
      "metadata": {
        "id": "3PBqAffp3o9I"
      },
      "source": [
        "Busque quais são os anos da base de dados?"
      ]
    },
    {
      "cell_type": "code",
      "execution_count": null,
      "metadata": {
        "id": "lqgX2B6x5fLc"
      },
      "outputs": [],
      "source": [
        "ok"
      ]
    },
    {
      "cell_type": "markdown",
      "metadata": {
        "id": "R2DKj08Z5tqJ"
      },
      "source": [
        "Qual a porcentagem de homens e mulheres na base de dados?"
      ]
    },
    {
      "cell_type": "code",
      "execution_count": null,
      "metadata": {
        "id": "3wZDjRn03xB0"
      },
      "outputs": [],
      "source": [
        "ok"
      ]
    },
    {
      "cell_type": "markdown",
      "metadata": {
        "id": "Nou_jojr3ztM"
      },
      "source": [
        "Qual foi o gasto por ano?"
      ]
    },
    {
      "cell_type": "code",
      "execution_count": null,
      "metadata": {
        "id": "hjBuBCDb30YI"
      },
      "outputs": [],
      "source": []
    },
    {
      "cell_type": "markdown",
      "metadata": {
        "id": "vgN3teMQ32pg"
      },
      "source": [
        "Qual foi o ano com maior gasto?"
      ]
    },
    {
      "cell_type": "code",
      "execution_count": null,
      "metadata": {
        "id": "JmN_ZHBV35ss"
      },
      "outputs": [],
      "source": []
    },
    {
      "cell_type": "markdown",
      "metadata": {
        "id": "V_y9EX0p34-E"
      },
      "source": [
        "Utilizando as faixas etárias, diga quantas pessoas há em cada faixa?"
      ]
    },
    {
      "cell_type": "code",
      "execution_count": null,
      "metadata": {
        "id": "ukkjPSE738r8"
      },
      "outputs": [],
      "source": []
    },
    {
      "cell_type": "markdown",
      "metadata": {
        "id": "_7qmp-1y36Ac"
      },
      "source": [
        "Qual é a faixa etária que mais gasta?"
      ]
    },
    {
      "cell_type": "code",
      "execution_count": null,
      "metadata": {
        "id": "O0_Wt4I838V0"
      },
      "outputs": [],
      "source": []
    },
    {
      "cell_type": "markdown",
      "metadata": {
        "id": "L_EUiizw3-jM"
      },
      "source": [
        "A opção de débito é mais utilizada entre homens ou mulheres?"
      ]
    },
    {
      "cell_type": "code",
      "execution_count": null,
      "metadata": {
        "id": "dIKB7PXj3_DE"
      },
      "outputs": [],
      "source": []
    },
    {
      "cell_type": "markdown",
      "metadata": {
        "id": "jOMpl3Th4Bkm"
      },
      "source": [
        "Qual o sobrenome que mais aparece na base de dados?"
      ]
    },
    {
      "cell_type": "code",
      "execution_count": null,
      "metadata": {
        "id": "LDFe_62s4B_Q"
      },
      "outputs": [],
      "source": []
    },
    {
      "cell_type": "markdown",
      "metadata": {
        "id": "Q7VS9K_Q4ECM"
      },
      "source": [
        "Qual foi o ano em que os homens mais usaram o crédito?"
      ]
    },
    {
      "cell_type": "code",
      "execution_count": null,
      "metadata": {
        "id": "5H60b3n64Ee0"
      },
      "outputs": [],
      "source": []
    },
    {
      "cell_type": "markdown",
      "metadata": {
        "id": "ebnmp5KD4GPw"
      },
      "source": [
        "Qual opção de pagamento é mais utilizada em cada faixa etária?"
      ]
    },
    {
      "cell_type": "code",
      "execution_count": null,
      "metadata": {
        "id": "NumXkC5p4H7s"
      },
      "outputs": [],
      "source": []
    },
    {
      "cell_type": "markdown",
      "metadata": {
        "id": "jRKhI6Dv4IQJ"
      },
      "source": [
        "Qual o valor gasto em compras por jovens do ano de 2010 até 2015?"
      ]
    },
    {
      "cell_type": "code",
      "execution_count": null,
      "metadata": {
        "id": "6SXstcF54Itk"
      },
      "outputs": [],
      "source": []
    }
  ],
  "metadata": {
    "colab": {
      "provenance": []
    },
    "kernelspec": {
      "display_name": "Python 3",
      "name": "python3"
    },
    "language_info": {
      "codemirror_mode": {
        "name": "ipython",
        "version": 3
      },
      "file_extension": ".py",
      "mimetype": "text/x-python",
      "name": "python",
      "nbconvert_exporter": "python",
      "pygments_lexer": "ipython3",
      "version": "3.10.0"
    }
  },
  "nbformat": 4,
  "nbformat_minor": 0
}
