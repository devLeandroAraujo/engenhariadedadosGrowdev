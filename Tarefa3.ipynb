{
  "cells": [
    {
      "cell_type": "markdown",
      "metadata": {
        "id": "v8pFWwviib2C"
      },
      "source": [
        "![Growdev](https://www.growdev.com.br/assets/images/logo_growdev.png)"
      ]
    },
    {
      "cell_type": "markdown",
      "metadata": {
        "id": "6Tkl4_HxifXZ"
      },
      "source": [
        "![Formação Engenharia de Dados](https://d335luupugsy2.cloudfront.net/cms/files/524558/1707226566/$occu5m8t1op)"
      ]
    },
    {
      "cell_type": "markdown",
      "metadata": {
        "id": "ty7Bzyl1i9bN"
      },
      "source": [
        "Este material tem como objetivo incentivar a prática dos conteúdos estudados até o momento, e a pesquisa. Tenha em consideração que o exercício foi pensado para incentivar a prática dos conteúdos estudados até então, porém aprender a pesquisar faz parte do processo de aprendizagem.\n",
        "\n",
        "Fique tranquilo, faça os exercícios com calma, e boa prática!\n"
      ]
    },
    {
      "cell_type": "markdown",
      "metadata": {
        "id": "DU5-yCQwjx3V"
      },
      "source": [
        "#Orientações:\n",
        "\n",
        " - Faça uma copia deste arquivo\n",
        " - Após concluir os exercicios, suba seu exercicio para o GitHub e compartilhe o link no **google** Classroom\n"
      ]
    },
    {
      "cell_type": "markdown",
      "metadata": {
        "id": "EzT810tnlmfE"
      },
      "source": [
        "#Exercícios"
      ]
    },
    {
      "cell_type": "markdown",
      "metadata": {
        "id": "rDqBAimhSq_C"
      },
      "source": [
        "#Listas"
      ]
    },
    {
      "cell_type": "markdown",
      "metadata": {
        "id": "GoGkz2n-SudC"
      },
      "source": [
        "Para esse exercicio você tera alguns desafios, separei eles em partes, vamos lá?\n",
        "\n",
        "1 - Crie uma lista com 100 números inteiros.\n",
        "- Pode ser uma sequência, ou caso queira se desafiar faça de números aleatorios.\n",
        "- Os dados não devem ser inseridos manualmente, utilize de um laço de repetição para adicionar os elementos a Lista.\n"
      ]
    },
    {
      "cell_type": "code",
      "execution_count": 36,
      "metadata": {
        "id": "lLYBJr0KSuJW"
      },
      "outputs": [
        {
          "name": "stdout",
          "output_type": "stream",
          "text": [
            "[1, 2, 3, 4, 5, 6, 7, 8, 9, 10, 11, 12, 13, 14, 15, 16, 17, 18, 19, 20, 21, 22, 23, 24, 25, 26, 27, 28, 29, 30, 31, 32, 33, 34, 35, 36, 37, 38, 39, 40, 41, 42, 43, 44, 45, 46, 47, 48, 49, 50, 51, 52, 53, 54, 55, 56, 57, 58, 59, 60, 61, 62, 63, 64, 65, 66, 67, 68, 69, 70, 71, 72, 73, 74, 75, 76, 77, 78, 79, 80, 81, 82, 83, 84, 85, 86, 87, 88, 89, 90, 91, 92, 93, 94, 95, 96, 97, 98, 99, 100]\n"
          ]
        }
      ],
      "source": [
        "# Fazendo a lista em sequência\n",
        "\n",
        "lista_sequencia = [] # primeiro criar uma lista vazia\n",
        "\n",
        "for i in range(100): # Cria um laço for dentro do range 100, gerando 100 numeros em seq\n",
        "    lista_sequencia += [i + 1] # vai adicionar um número na lista obs: se não apontar este paramentro vai gerar uma lista com 100 espaços vazios.\n",
        "\n",
        "print(lista_sequencia) # Aqui imprime na tela o resultado da linha acima"
      ]
    },
    {
      "cell_type": "code",
      "execution_count": 37,
      "metadata": {},
      "outputs": [
        {
          "name": "stdout",
          "output_type": "stream",
          "text": [
            "[44, 57, 34, 8, 37, 61, 1, 61, 19, 41, 50, 64, 56, 54, 26, 59, 8, 17, 74, 43, 41, 85, 88, 32, 24, 44, 3, 74, 28, 73, 49, 50, 75, 49, 86, 46, 9, 79, 90, 23, 31, 87, 96, 71, 86, 37, 51, 68, 62, 61, 66, 65, 2, 76, 47, 77, 78, 90, 75, 35, 72, 39, 51, 9, 37, 86, 22, 11, 62, 60, 74, 57, 8, 25, 59, 29, 46, 69, 32, 60, 34, 81, 10, 54, 77, 16, 14, 49, 49, 48, 25, 57, 74, 50, 93, 67, 69, 16, 74, 52]\n"
          ]
        }
      ],
      "source": [
        "import random #importa a biblioteca random para valores aleatórios\n",
        "\n",
        "lista_aleatoria = [] # Criando a lista vazia\n",
        "\n",
        "# Usa um laço de repetição para adicionar 100 números inteiros aleatórios à lista\n",
        "for i in range(100):\n",
        "    numero_aleatorio = random.randint(1, 100)  # Gera um número aleatório entre 1 e 100\n",
        "    lista_aleatoria += [numero_aleatorio]  # Adiciona o número à lista usando concatenação\n",
        "\n",
        "print(lista_aleatoria) # Imprime a lista"
      ]
    },
    {
      "cell_type": "markdown",
      "metadata": {
        "id": "LQ0SVqxyVTD5"
      },
      "source": [
        "2 - Calcule e exiba a soma de todos os números da lista."
      ]
    },
    {
      "cell_type": "code",
      "execution_count": 38,
      "metadata": {},
      "outputs": [
        {
          "name": "stdout",
          "output_type": "stream",
          "text": [
            "A soma dos números da lista é: 5050\n"
          ]
        }
      ],
      "source": [
        "soma = sum(lista_sequencia)\n",
        "print(f\"A soma dos números da lista é: {soma}\")"
      ]
    },
    {
      "cell_type": "code",
      "execution_count": 39,
      "metadata": {
        "id": "6HP8yU1bVS0F"
      },
      "outputs": [
        {
          "name": "stdout",
          "output_type": "stream",
          "text": [
            "A soma dos números da lista é: 5040\n"
          ]
        }
      ],
      "source": [
        "soma = sum(lista_aleatoria)\n",
        "print(f\"A soma dos números da lista é: {soma}\")\n"
      ]
    },
    {
      "cell_type": "markdown",
      "metadata": {
        "id": "HYQGLklTTPMx"
      },
      "source": [
        "3 - Exiba o maior e o menor número da lista."
      ]
    },
    {
      "cell_type": "code",
      "execution_count": 40,
      "metadata": {
        "id": "q_UZx7EETT6S"
      },
      "outputs": [
        {
          "name": "stdout",
          "output_type": "stream",
          "text": [
            "O maior valor da lista é: 100\n",
            "O menor valor da lista é: 1\n"
          ]
        }
      ],
      "source": [
        "\n",
        "maior_valor = lista_sequencia[0]  # Inicializa em 0 para armazenar o maior e o menor valor da lista\n",
        "menor_valor = lista_sequencia[0]\n",
        "\n",
        "\n",
        "for numero in lista_sequencia: # Percorre cada elemento da lista com um FOR\n",
        "    if numero > maior_valor:\n",
        "        maior_valor = numero\n",
        "    elif numero < menor_valor:\n",
        "        menor_valor = numero\n",
        "\n",
        "# Exibe os resultados\n",
        "print(f\"O maior valor da lista é: {maior_valor}\")\n",
        "print(f\"O menor valor da lista é: {menor_valor}\")"
      ]
    },
    {
      "cell_type": "code",
      "execution_count": 41,
      "metadata": {},
      "outputs": [
        {
          "name": "stdout",
          "output_type": "stream",
          "text": [
            "O maior valor da lista é: 96\n",
            "O menor valor da lista é: 1\n"
          ]
        }
      ],
      "source": [
        "maior_valor = lista_aleatoria[0]  # Inicializa em 0 para armazenar o maior e o menor valor da lista\n",
        "menor_valor = lista_aleatoria[0]\n",
        "\n",
        "\n",
        "for numero in lista_aleatoria: # Percorre cada elemento da lista com um FOR\n",
        "    if numero > maior_valor:\n",
        "        maior_valor = numero\n",
        "    elif numero < menor_valor:\n",
        "        menor_valor = numero\n",
        "\n",
        "# Exibe os resultados\n",
        "print(f\"O maior valor da lista é: {maior_valor}\")\n",
        "print(f\"O menor valor da lista é: {menor_valor}\")"
      ]
    },
    {
      "cell_type": "markdown",
      "metadata": {
        "id": "1iU6ZtRhVN9i"
      },
      "source": [
        "4 - Pesquise se o número 77 esta presente na lista e exiba:\n",
        "- Quantas vezes esse número aparece na lista\n",
        "- Se aparece em qual ou quais posições(Indice)."
      ]
    },
    {
      "cell_type": "code",
      "execution_count": 42,
      "metadata": {
        "id": "OGVH4AoGWU2R"
      },
      "outputs": [
        {
          "name": "stdout",
          "output_type": "stream",
          "text": [
            "O numero 77 aparece 2 vezes e está no indíce[55, 84].\n"
          ]
        }
      ],
      "source": [
        "cont = 0  # Inicializa em 0 para armazenar o maior e o menor valor da lista\n",
        "\n",
        "for elemento in lista_aleatoria: #verifica a lista e procura o numero 77 e incrementa no contador o número de vezes que aparece\n",
        "    if elemento == 77:\n",
        "        cont += 1\n",
        "indices = [i for i, x in enumerate(lista_aleatoria) if x == 77] #percorre a lista e com a função enumerate vai listar a posição se encontrar o 77\n",
        "\n",
        "print(f\"O numero 77 aparece {cont} vezes e está no indíce{indices}.\")"
      ]
    },
    {
      "cell_type": "code",
      "execution_count": 43,
      "metadata": {},
      "outputs": [
        {
          "name": "stdout",
          "output_type": "stream",
          "text": [
            "O numero 77 aparece 1 vezes e está no indíce[76].\n"
          ]
        }
      ],
      "source": [
        "cont = 0  # Inicializa em 0 para armazenar o maior e o menor valor da lista\n",
        "\n",
        "for elemento in lista_sequencia: #verifica a lista e procura o numero 77 e incrementa no contador o número de vezes que aparece\n",
        "    if elemento == 77:\n",
        "        cont += 1\n",
        "indices = [i for i, x in enumerate(lista_sequencia) if x == 77] #percorre a lista e com a função enumerate vai listar a posição se encontrar o 77\n",
        "\n",
        "print(f\"O numero 77 aparece {cont} vezes e está no indíce{indices}.\")"
      ]
    },
    {
      "cell_type": "markdown",
      "metadata": {
        "id": "jrwycUMvWVSu"
      },
      "source": [
        "5 - Ordene a lista de forma descendente e exiba."
      ]
    },
    {
      "cell_type": "code",
      "execution_count": 44,
      "metadata": {
        "id": "RvRpLp87e5CB"
      },
      "outputs": [
        {
          "name": "stdout",
          "output_type": "stream",
          "text": [
            "[100, 99, 98, 97, 96, 95, 94, 93, 92, 91, 90, 89, 88, 87, 86, 85, 84, 83, 82, 81, 80, 79, 78, 77, 76, 75, 74, 73, 72, 71, 70, 69, 68, 67, 66, 65, 64, 63, 62, 61, 60, 59, 58, 57, 56, 55, 54, 53, 52, 51, 50, 49, 48, 47, 46, 45, 44, 43, 42, 41, 40, 39, 38, 37, 36, 35, 34, 33, 32, 31, 30, 29, 28, 27, 26, 25, 24, 23, 22, 21, 20, 19, 18, 17, 16, 15, 14, 13, 12, 11, 10, 9, 8, 7, 6, 5, 4, 3, 2, 1]\n"
          ]
        }
      ],
      "source": [
        "for i in range(0, 100):\n",
        "    for j in range(i+1,100):\n",
        "        if lista_sequencia[i] < lista_sequencia[j]:\n",
        "            aux = lista_sequencia[j] \n",
        "            lista_sequencia[j] = lista_sequencia[i]\n",
        "            lista_sequencia[i] = aux\n",
        "print(lista_sequencia)\n",
        "\n"
      ]
    },
    {
      "cell_type": "code",
      "execution_count": 45,
      "metadata": {},
      "outputs": [
        {
          "name": "stdout",
          "output_type": "stream",
          "text": [
            "[96, 93, 90, 90, 88, 87, 86, 86, 86, 85, 81, 79, 78, 77, 77, 76, 75, 75, 74, 74, 74, 74, 74, 73, 72, 71, 69, 69, 68, 67, 66, 65, 64, 62, 62, 61, 61, 61, 60, 60, 59, 59, 57, 57, 57, 56, 54, 54, 52, 51, 51, 50, 50, 50, 49, 49, 49, 49, 48, 47, 46, 46, 44, 44, 43, 41, 41, 39, 37, 37, 37, 35, 34, 34, 32, 32, 31, 29, 28, 26, 25, 25, 24, 23, 22, 19, 17, 16, 16, 14, 11, 10, 9, 9, 8, 8, 8, 3, 2, 1]\n"
          ]
        }
      ],
      "source": [
        "for i in range(0, 100):\n",
        "    for j in range(i+1,100):\n",
        "        if lista_aleatoria[i] < lista_aleatoria[j]:\n",
        "            aux = lista_aleatoria[j] \n",
        "            lista_aleatoria[j] = lista_aleatoria[i]\n",
        "            lista_aleatoria[i] = aux\n",
        "print(lista_aleatoria)"
      ]
    },
    {
      "cell_type": "markdown",
      "metadata": {
        "id": "Be68CsC2OftE"
      },
      "source": [
        "## Tuplas:"
      ]
    },
    {
      "cell_type": "markdown",
      "metadata": {
        "id": "SQzRrAmq1SnR"
      },
      "source": [
        "Crie uma tupla com os dias da semana e peça para o usuário digitar um número de 1 a 7. Exiba o dia correspondente."
      ]
    },
    {
      "cell_type": "code",
      "execution_count": 48,
      "metadata": {
        "id": "7BqDEfeq1TZE"
      },
      "outputs": [
        {
          "name": "stdout",
          "output_type": "stream",
          "text": [
            "O dia correspondente é: Domingo\n"
          ]
        }
      ],
      "source": [
        "dias_da_semana = (\"Domingo\", \"Segunda-feira\", \"Terça-feira\", \"Quarta-feira\", \"Quinta-feira\", \"Sexta-feira\", \"Sábado\")\n",
        "\n",
        "numero = int(input(\"Digite um número de 1 a 7: \")) \n",
        "\n",
        "if 1 <= numero <= 7: # Verifica se o número está no intervalo válido\n",
        "    \n",
        "    print(f\"O dia correspondente é: {dias_da_semana[numero - 1]}\") # Exibe o dia correspondente (subtrai 1 porque os índices da tupla começam em 0)\n",
        "else:\n",
        "    print(\"Número inválido! Por favor, digite um número de 1 a 7.\")"
      ]
    },
    {
      "cell_type": "markdown",
      "metadata": {
        "id": "J9LW9fru7hv6"
      },
      "source": [
        "Crie duas tuplas com números inteiros e crie uma terceira tupla com a concatenação das duas."
      ]
    },
    {
      "cell_type": "code",
      "execution_count": 49,
      "metadata": {
        "id": "J2pBsS-f7idJ"
      },
      "outputs": [
        {
          "name": "stdout",
          "output_type": "stream",
          "text": [
            "Tupla 1: (1, 2, 3, 4, 5)\n",
            "Tupla 2: (6, 7, 8, 9, 10)\n",
            "Tupla 3 (concatenação das tuplas 1 e 2): (1, 2, 3, 4, 5, 6, 7, 8, 9, 10)\n"
          ]
        }
      ],
      "source": [
        "tupla1 = (1, 2, 3, 4, 5)\n",
        "tupla2 = (6, 7, 8, 9, 10)\n",
        "\n",
        "\n",
        "tupla3 = tupla1 + tupla2 \n",
        "\n",
        "print(\"Tupla 1:\", tupla1)\n",
        "print(\"Tupla 2:\", tupla2)\n",
        "print(\"Tupla 3 (concatenação das tuplas 1 e 2):\", tupla3)"
      ]
    },
    {
      "cell_type": "markdown",
      "metadata": {
        "id": "ytDz_SXB7o-8"
      },
      "source": [
        " Crie uma tupla com alguns elementos e remova um elemento específico."
      ]
    },
    {
      "cell_type": "code",
      "execution_count": 50,
      "metadata": {
        "id": "QvIAx6HP7pbh"
      },
      "outputs": [
        {
          "name": "stdout",
          "output_type": "stream",
          "text": [
            "Tupla original: (1, 2, 3, 4, 5, 6, 7, 8, 9, 10)\n",
            "Tupla sem o elemento 3 : (1, 2, 4, 5, 6, 7, 8, 9, 10)\n"
          ]
        }
      ],
      "source": [
        "tupla = (1, 2, 3, 4, 5, 6, 7, 8, 9, 10)\n",
        "\n",
        "remover_el = 3\n",
        "\n",
        "\n",
        "tupla_sem_elemento = tuple(i for i in tupla if i != remover_el) \n",
        "\n",
        "print(\"Tupla original:\", tupla)\n",
        "print(\"Tupla sem o elemento\", remover_el, \":\", tupla_sem_elemento)"
      ]
    },
    {
      "cell_type": "markdown",
      "metadata": {
        "id": "v_JM0Has1pPL"
      },
      "source": [
        "#Sets"
      ]
    },
    {
      "cell_type": "markdown",
      "metadata": {
        "id": "Urrv-Y291roJ"
      },
      "source": [
        "Crie dois sets com cores diferentes e exiba na tela a união dos dois sets."
      ]
    },
    {
      "cell_type": "code",
      "execution_count": 51,
      "metadata": {
        "id": "FM4S-PEa1zSW"
      },
      "outputs": [
        {
          "name": "stdout",
          "output_type": "stream",
          "text": [
            "{'azul', 'branco', 'preto', 'amarelo', 'vermelho', 'verde'}\n"
          ]
        }
      ],
      "source": [
        "grupocores_a = {'amarelo', 'verde', 'azul'}\n",
        "grupocores_b = {'preto', 'branco', 'vermelho'}\n",
        "uniao_cores = grupocores_a.union(grupocores_b)\n",
        "print(uniao_cores)"
      ]
    },
    {
      "cell_type": "markdown",
      "metadata": {
        "id": "0q0tG4eG1zkL"
      },
      "source": [
        "Crie uma lista com alguns números repetidos. Converta essa lista em um set para remover as duplicatas e exiba o resultado."
      ]
    },
    {
      "cell_type": "code",
      "execution_count": 52,
      "metadata": {
        "id": "j4okoTWR2I_R"
      },
      "outputs": [
        {
          "name": "stdout",
          "output_type": "stream",
          "text": [
            "{1, 2, 3, 4, 5, 6, 7, 8, 9, 10, 11, 12, 13, 14}\n"
          ]
        }
      ],
      "source": [
        "lista_num1 = {1, 2, 3, 4, 5, 6, 7, 8, 9, 10}\n",
        "lista_num2 = {1, 2, 11, 12, 13, 14}\n",
        "uniao_num = lista_num1.union(lista_num2)\n",
        "print(uniao_num)"
      ]
    },
    {
      "cell_type": "markdown",
      "metadata": {
        "id": "4MCBgr-k1fvU"
      },
      "source": [
        "#Dicionários:"
      ]
    },
    {
      "cell_type": "markdown",
      "metadata": {
        "id": "0A-DeyIMPh4g"
      },
      "source": [
        " Crie um dicionário com os nomes de algumas frutas e suas respectivas cores. Exiba na tela somente as frutas que são vermelhas."
      ]
    },
    {
      "cell_type": "code",
      "execution_count": 53,
      "metadata": {
        "id": "7jlD2DV4Pjom"
      },
      "outputs": [
        {
          "name": "stdout",
          "output_type": "stream",
          "text": [
            "Frutas vermelhas do dicionário são: ['Maça', 'Morango', 'Pitanga']\n"
          ]
        }
      ],
      "source": [
        "frutas_coloridas = {\n",
        "            \"Maça\": \"Vermelho\",\n",
        "            \"Morango\": \"Vermelho\",\n",
        "            \"Pitanga\": \"Vermelho\",\n",
        "            \"Melância\": \"Verde\",\n",
        "            \"Abacate\": \"Verde\"\n",
        "        }    \n",
        "\n",
        "frutas_vermelhas =[fruta for fruta in frutas_coloridas.keys() if frutas_coloridas[fruta] == \"Vermelho\"]\n",
        "print(\"Frutas vermelhas do dicionário são:\", frutas_vermelhas)"
      ]
    },
    {
      "cell_type": "markdown",
      "metadata": {
        "id": "q-XV14A-PmSa"
      },
      "source": [
        "Crie um dicionário com o nome e a idade de três pessoas. Busque por  um nome e exiba a idade correspondente."
      ]
    },
    {
      "cell_type": "code",
      "execution_count": 24,
      "metadata": {
        "id": "8rPH-lzG2gvh"
      },
      "outputs": [
        {
          "name": "stdout",
          "output_type": "stream",
          "text": [
            "A idade de Leonardo é 15 anos.\n"
          ]
        }
      ],
      "source": [
        "pessoas = {\n",
        "    'Leandro': 35,\n",
        "    'Leonardo': 15,\n",
        "    'Luciane': 36\n",
        "}\n",
        "\n",
        "busca_nome = 'Leonardo'\n",
        "busca_idade = pessoas.get(busca_nome)\n",
        "if busca_nome in pessoas:\n",
        "    print(f\"A idade de {busca_nome} é {busca_idade} anos.\")\n",
        "else:\n",
        "    print(f\"O nome {busca_nome}, não foi encontrado no dicionário\")\n",
        "                                       "
      ]
    },
    {
      "cell_type": "markdown",
      "metadata": {
        "id": "yEn6q_MP5SdW"
      },
      "source": [
        "Crie um dicionário com os nomes e idades de algumas pessoas. Peça para o usuário digitar um nome e sua nova idade, e atualize o dicionário com essa informação."
      ]
    },
    {
      "cell_type": "code",
      "execution_count": 26,
      "metadata": {
        "id": "H-RHnfMm5TcR"
      },
      "outputs": [
        {
          "name": "stdout",
          "output_type": "stream",
          "text": [
            "Lista de pessoas inicial: {'Leandro': 35, 'Leonardo': 15, 'Luciane': 36, 'Maria': 12, 'Gabriel': 40}\n",
            "Lista de nomes com a idade atualizada: {'Leandro': 35, 'Leonardo': 15, 'Luciane': 30, 'Maria': 12, 'Gabriel': 40}\n"
          ]
        }
      ],
      "source": [
        "pessoas = {\n",
        "    'Leandro': 35,\n",
        "    'Leonardo': 15,\n",
        "    'Luciane': 36,\n",
        "    'Maria': 12,\n",
        "    'Gabriel': 40\n",
        "}\n",
        "print(\"Lista de pessoas inicial:\", pessoas)\n",
        "\n",
        "nome = input(\"Digite o nome da pessoa que deseja atualizar a idade: \")\n",
        "n_idade = int(input(\"Digite a nova idade: \"))\n",
        "\n",
        "pessoas.update({nome: n_idade})\n",
        "\n",
        "print(\"Lista de nomes com a idade atualizada:\", pessoas)\n"
      ]
    },
    {
      "cell_type": "markdown",
      "metadata": {
        "id": "Jeelh1Xw2hab"
      },
      "source": [
        "Desafio Dicionários:\n",
        "\n",
        "Busque o código desenvolvido para o exercicio abaixo e altere o algoritmo para:\n",
        "\n",
        " - Salvar o resultado da eleição em um dícionário.\n",
        "\n",
        "\n",
        "Exemplo de saida do dicionario: {\"Candidato 1\": 2, \"Candidato 2\": 2, \"Voto Nulo\": 0, \"Voto Branco\": 1}\n",
        "\n",
        "\n",
        "Este exercicio foi realizado na lista da semana passada, exercicio de número 4:"
      ]
    },
    {
      "cell_type": "markdown",
      "metadata": {
        "id": "cDnoQXk83e5B"
      },
      "source": [
        "\n",
        "\"Em uma eleição presidencial existem dois candidatos. Os votos são informados através de códigos. Os dados utilizados para a contagem dos votos obedecem à seguinte codificação:\n",
        "\n",
        "1,2 = voto para os respectivos candidatos\n",
        "\n",
        "3 = voto nulo\n",
        "\n",
        "4 = voto em branco;\n",
        "\n",
        "Elabore um programa que leia o código de votação de 5 eleitores. Calcule e escreva: total de votos para cada candidato total de votos nulos total de votos em branco\""
      ]
    },
    {
      "cell_type": "code",
      "execution_count": 33,
      "metadata": {
        "id": "CRlV5NE82kpE"
      },
      "outputs": [
        {
          "name": "stdout",
          "output_type": "stream",
          "text": [
            "Resultado da eleição:\n",
            "{'Candidato 1': 2, 'Candidato 2': 1, 'Voto Nulo': 1, 'Voto Branco': 1}\n"
          ]
        }
      ],
      "source": [
        "eleicao = {\n",
        "    \"Candidato 1\": 0,\n",
        "    \"Candidato 2\": 0,\n",
        "    \"Voto Nulo\": 0,\n",
        "    \"Voto Branco\": 0\n",
        "}\n",
        "\n",
        "\n",
        "for vot in range(5):\n",
        "    votos = int(input(f\"Digite o código do voto do eleitor {vot+1} (1, 2, 3 ou 4): \"))\n",
        "    \n",
        "    if votos == 1:\n",
        "        eleicao[\"Candidato 1\"] += 1\n",
        "    elif votos == 2:\n",
        "        eleicao[\"Candidato 2\"] += 1\n",
        "    elif votos == 3:\n",
        "        eleicao[\"Voto Nulo\"] += 1\n",
        "    elif votos == 4:\n",
        "        eleicao[\"Voto Branco\"] += 1\n",
        "    else:\n",
        "        print(\"Código inválido! O voto não será contabilizado.\")\n",
        "\n",
        "\n",
        "print(\"Resultado da eleição:\")\n",
        "print(eleicao)"
      ]
    },
    {
      "cell_type": "markdown",
      "metadata": {
        "id": "ffEKF4Kx5eQu"
      },
      "source": [
        "#Listas por Compreensão:"
      ]
    },
    {
      "cell_type": "markdown",
      "metadata": {
        "id": "IrQvRhQM5oj6"
      },
      "source": [
        "Crie uma lista com os números Impares de 1 a 20 utilizando listas por compreensão."
      ]
    },
    {
      "cell_type": "code",
      "execution_count": 54,
      "metadata": {
        "id": "lqgX2B6x5fLc"
      },
      "outputs": [
        {
          "name": "stdout",
          "output_type": "stream",
          "text": [
            "[1, 3, 5, 7, 9, 11, 13, 15, 17, 19]\n"
          ]
        }
      ],
      "source": [
        "impares = [num for num in range(1, 21) if num % 2 != 0]\n",
        "\n",
        "\n",
        "print(impares)"
      ]
    },
    {
      "cell_type": "markdown",
      "metadata": {
        "id": "R2DKj08Z5tqJ"
      },
      "source": [
        "Crie uma lista com as letras da frase \"Sou estudante de dados\", utilizando listas por compreensão."
      ]
    },
    {
      "cell_type": "code",
      "execution_count": 55,
      "metadata": {
        "id": "22s-ixin3J1K"
      },
      "outputs": [
        {
          "name": "stdout",
          "output_type": "stream",
          "text": [
            "['S', 'o', 'u', 'e', 's', 't', 'u', 'd', 'a', 'n', 't', 'e', 'd', 'e', 'd', 'a', 'd', 'o', 's']\n"
          ]
        }
      ],
      "source": [
        "frase = \"Sou estudante de dados\"\n",
        "lista_letras= [letra for letra in frase if letra != ' ']\n",
        "\n",
        "print(lista_letras)"
      ]
    }
  ],
  "metadata": {
    "colab": {
      "provenance": []
    },
    "kernelspec": {
      "display_name": "Python 3",
      "name": "python3"
    },
    "language_info": {
      "codemirror_mode": {
        "name": "ipython",
        "version": 3
      },
      "file_extension": ".py",
      "mimetype": "text/x-python",
      "name": "python",
      "nbconvert_exporter": "python",
      "pygments_lexer": "ipython3",
      "version": "3.11.9"
    }
  },
  "nbformat": 4,
  "nbformat_minor": 0
}
