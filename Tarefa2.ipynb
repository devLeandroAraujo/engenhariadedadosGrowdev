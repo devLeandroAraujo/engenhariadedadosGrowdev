{
  "cells": [
    {
      "cell_type": "markdown",
      "metadata": {
        "id": "v8pFWwviib2C"
      },
      "source": [
        "![Growdev](https://www.growdev.com.br/assets/images/logo_growdev.png)"
      ]
    },
    {
      "cell_type": "markdown",
      "metadata": {
        "id": "6Tkl4_HxifXZ"
      },
      "source": [
        "![Formação Engenharia de Dados](https://d335luupugsy2.cloudfront.net/cms/files/524558/1707226566/$occu5m8t1op)"
      ]
    },
    {
      "cell_type": "markdown",
      "metadata": {
        "id": "ty7Bzyl1i9bN"
      },
      "source": [
        "Este material tem como objetivo incentivar a prática dos conteúdos estudados até o momento, e a pesquisa. Tenha em consideração que o exercício foi pensado para incentivar a prática dos conteúdos estudados até então, porém aprender a pesquisar faz parte do processo de aprendizagem.\n",
        "\n",
        "Fique tranquilo, faça os exercícios com calma, e boa prática!\n"
      ]
    },
    {
      "cell_type": "markdown",
      "metadata": {
        "id": "DU5-yCQwjx3V"
      },
      "source": [
        "#Orientações:\n",
        "\n",
        " - Faça uma copia deste arquivo\n",
        " - Após concluir os exercicios, suba seu exercicio para o GitHub e compartilhe o link no **google** Classroom\n"
      ]
    },
    {
      "cell_type": "markdown",
      "metadata": {
        "id": "EzT810tnlmfE"
      },
      "source": [
        "#Exercícios"
      ]
    },
    {
      "cell_type": "markdown",
      "metadata": {
        "id": "p62-CTXgvn5E"
      },
      "source": [
        "\n",
        "1- Escrever um programa que lê 5 valores para a, um de cada vez, e conta quantos destes valores são negativos, escrevendo esta informação."
      ]
    },
    {
      "cell_type": "code",
      "execution_count": 1,
      "metadata": {
        "id": "gU8NkXNYvmZv"
      },
      "outputs": [
        {
          "name": "stdout",
          "output_type": "stream",
          "text": [
            "Você digitou 0 valores negativos.\n"
          ]
        }
      ],
      "source": [
        "contador_negativos = 0\n",
        "\n",
        "\n",
        "for _ in range(5):\n",
        "    valor = int(input(\"Digite um valor: \"))\n",
        "    if valor < 0:\n",
        "        contador_negativos += 1\n",
        "print(f\"Você digitou {contador_negativos} valores negativos.\")"
      ]
    },
    {
      "cell_type": "markdown",
      "metadata": {
        "id": "_ST1Z4wkjMzJ"
      },
      "source": []
    },
    {
      "cell_type": "markdown",
      "metadata": {
        "id": "59g_B9yRvqYS"
      },
      "source": [
        "2 - A prefeitura de uma cidade fez uma pesquisa entre seus habitantes, coletando dados sobre o salário e número de filhos. A prefeitura deseja saber:\n",
        "\n",
        "a) média do salário da população;\n",
        "\n",
        "b) média do número de filhos;\n",
        "\n",
        "c) maior salário;\n",
        "\n",
        "d) percentual de pessoas com salário até R$2000,00.\n",
        "\n",
        "Escreva um programa que receba as informações necessárias de 5 pessoas conforme a descrição e responda às questões a, b, c e d anteriores.\n"
      ]
    },
    {
      "cell_type": "code",
      "execution_count": 3,
      "metadata": {
        "id": "hz6OkEJBv52O"
      },
      "outputs": [
        {
          "name": "stdout",
          "output_type": "stream",
          "text": [
            "Média do salário da população: R$ 5288.4\n",
            "Média do número de filhos: 4509.2\n",
            "Maior salário: R$ 20000.0\n",
            "Percentual de pessoas com salário até R$2000,00: 60.0%\n"
          ]
        }
      ],
      "source": [
        "total_salarios = 0\n",
        "total_filhos = 0\n",
        "contador_salarios_ate_2000 = 0\n",
        "maior_salario = 0\n",
        "\n",
        "for _ in range(5):\n",
        "    salario = float(input(\"Digite o salário: \"))\n",
        "    numero_filhos = int(input(\"Digite o número de filhos: \"))\n",
        "\n",
        "    total_salarios += salario\n",
        "    total_filhos += numero_filhos\n",
        "\n",
        "    if salario > maior_salario:\n",
        "        maior_salario = salario\n",
        "\n",
        "    if salario <= 2000:\n",
        "        contador_salarios_ate_2000 += 1\n",
        "\n",
        "media_salario = total_salarios / 5\n",
        "media_filhos = total_filhos / 5\n",
        "\n",
        "percentual_salarios_ate_2000 = (contador_salarios_ate_2000 / 5) * 100\n",
        "\n",
        "# Imprime os resultados\n",
        "print(f\"Média do salário da população: R$ {media_salario}\")\n",
        "print(f\"Média do número de filhos: {media_filhos}\")\n",
        "print(f\"Maior salário: R$ {maior_salario}\")\n",
        "print(f\"Percentual de pessoas com salário até R$2000,00: {percentual_salarios_ate_2000}%\")"
      ]
    },
    {
      "cell_type": "markdown",
      "metadata": {
        "id": "V-7kNtvtwDN1"
      },
      "source": [
        "3 - Chico tem 1,50 metro e cresce 2 centímetros por ano, enquanto Zé tem 1,10 metro e cresce 3 centímetros por ano. Construa um programa que calcule e imprima quantos anos serão necessários para que Zé seja maior que Chico."
      ]
    },
    {
      "cell_type": "code",
      "execution_count": 4,
      "metadata": {
        "id": "Xlx4kqLpwE4L"
      },
      "outputs": [
        {
          "name": "stdout",
          "output_type": "stream",
          "text": [
            "Serão necessários 41 anos para que Zé seja maior que Chico.\n"
          ]
        }
      ],
      "source": [
        "altura_chico = 1.50  \n",
        "altura_ze = 1.10    \n",
        "crescimento_chico = 0.02  \n",
        "crescimento_ze = 0.03     \n",
        "anos = 0  \n",
        "while altura_ze <= altura_chico:\n",
        "    altura_chico += crescimento_chico\n",
        "    altura_ze += crescimento_ze\n",
        "    anos += 1\n",
        "print(f\"Serão necessários {anos} anos para que Zé seja maior que Chico.\")"
      ]
    },
    {
      "cell_type": "markdown",
      "metadata": {
        "id": "BU7x-lumwGRO"
      },
      "source": [
        "4 - Em uma eleição presidencial existem dois candidatos. Os votos são informados através de códigos. Os dados utilizados para a contagem dos votos obedecem à seguinte codificação:  \n",
        "\n",
        "1,2 = voto para os respectivos candidatos\n",
        "\n",
        "3 = voto nulo\n",
        "\n",
        "4 = voto em branco;\n",
        "\n",
        "Elabore um programa que leia o código de votação de 5 eleitores. Calcule e escreva:\n",
        "total de votos para cada candidato\n",
        "total de votos nulos\n",
        "total de votos em branco\n"
      ]
    },
    {
      "cell_type": "code",
      "execution_count": null,
      "metadata": {
        "id": "tnOkAb44wQo5"
      },
      "outputs": [],
      "source": [
        "candidato1 = 0\n",
        "candidato2 = 0\n",
        "nulos = 0\n",
        "brancos = 0\n",
        "\n",
        "for i in range(5):\n",
        "    while True:\n",
        "        try:\n",
        "            voto = int(input(f\"Digite o voto do eleitor {i+1} (1, 2, 3 ou 4): \"))\n",
        "            if voto in [1, 2, 3, 4]:\n",
        "                break\n",
        "            else:\n",
        "                print(\"Código de voto inválido. Utilize (1, 2, 3 ou 4).\")\n",
        "        except ValueError:\n",
        "            print(\"Entrada inválida. Por favor, digite um número.\")\n",
        "    \n",
        "    # Contagem dos votos\n",
        "    if voto == 1:\n",
        "        candidato1 += 1\n",
        "    elif voto == 2:\n",
        "        candidato2 += 1\n",
        "    elif voto == 3:\n",
        "        nulos += 1\n",
        "    elif voto == 4:\n",
        "        brancos += 1\n",
        "\n",
        "# Exibição dos resultados\n",
        "print(f\"Total de votos para o candidato 1: {candidato1}\")\n",
        "print(f\"Total de votos para o candidato 2: {candidato2}\")\n",
        "print(f\"Total de votos nulos: {nulos}\")\n",
        "print(f\"Total de votos em branco: {brancos}\")"
      ]
    },
    {
      "cell_type": "markdown",
      "metadata": {
        "id": "oNyazyHPwzlo"
      },
      "source": [
        "5 - Escreva um programa que receba o nome de 10 pessoas e para cada pessoa, o lugar para o qual ela já viajou. Sendo que existem 3 possibilidades:\n",
        "\n",
        "Rio de Janeiro\n",
        "\n",
        "Bahia\n",
        "\n",
        "Minas Gerais\n",
        "\n",
        "Após, informar qual foi o destino mais visitado e qual o menos visitado.\n"
      ]
    },
    {
      "cell_type": "code",
      "execution_count": 7,
      "metadata": {
        "id": "FzTr2EY1w2Ey"
      },
      "outputs": [
        {
          "name": "stdout",
          "output_type": "stream",
          "text": [
            "Destino mais visitado: Rio de Janeiro\n",
            "Destino menos visitado: Bahia\n"
          ]
        }
      ],
      "source": [
        "cont_rio = 0\n",
        "cont_bahia = 0\n",
        "cont_minas_gerais = 0\n",
        "\n",
        "for i in range(10):\n",
        "    nome = input(\"Digite o nome da pessoa: \")\n",
        "    destino = input(\"Digite o destino visitado (Rio de Janeiro, Bahia ou Minas Gerais): \")\n",
        "    \n",
        "\n",
        "    if destino == \"Rio de Janeiro\":\n",
        "        cont_rio += 1\n",
        "    elif destino == \"Bahia\":\n",
        "        cont_bahia += 1\n",
        "    elif destino == \"Minas Gerais\":\n",
        "        cont_minas_gerais += 1\n",
        "\n",
        "# Contador do mais visitado\n",
        "if cont_rio > cont_bahia and cont_rio > cont_minas_gerais:\n",
        "    mais_visitado = \"Rio de Janeiro\"\n",
        "elif cont_bahia > cont_rio and cont_bahia > cont_minas_gerais:\n",
        "    mais_visitado = \"Bahia\"\n",
        "else:\n",
        "    mais_visitado = \"Minas Gerais\"\n",
        "\n",
        "# Contador do menos visitado\n",
        "if cont_rio < cont_bahia and cont_rio < cont_minas_gerais:\n",
        "    menos_visitado = \"Rio de Janeiro\"\n",
        "elif cont_bahia < cont_rio and cont_bahia < cont_minas_gerais:\n",
        "    menos_visitado = \"Bahia\"\n",
        "else:\n",
        "    menos_visitado = \"Minas Gerais\"\n",
        "\n",
        "\n",
        "print(\"Destino mais visitado:\", mais_visitado)\n",
        "print(\"Destino menos visitado:\", menos_visitado)\n",
        "\n"
      ]
    },
    {
      "cell_type": "markdown",
      "metadata": {
        "id": "HVJPsqTcw95-"
      },
      "source": [
        "6 -  A série de Fibonacci é formada pela sequência 1,1,2,3,5,8,13,21,34,55,... Faça um programa capaz de gerar a série até o n−ésimo termo."
      ]
    },
    {
      "cell_type": "code",
      "execution_count": 12,
      "metadata": {
        "id": "ZwgmpSgGw-v3"
      },
      "outputs": [
        {
          "name": "stdout",
          "output_type": "stream",
          "text": [
            "O 8 º termo da sequência de Fibonacci é: 21\n"
          ]
        }
      ],
      "source": [
        "n = int(input(\"Digite o valor de n para encontrar o enésimo termo da sequência de Fibonacci: \"))\n",
        "\n",
        "primeiro_termo = 1\n",
        "segundo_termo = 1\n",
        "\n",
        "\n",
        "if n == 1 or n == 2:\n",
        "    enesimo_termo = 1\n",
        "else:\n",
        "    # Calculando o enésimo termo da sequência\n",
        "    for _ in range(3, n + 1):\n",
        "        enesimo_termo = primeiro_termo + segundo_termo\n",
        "        primeiro_termo, segundo_termo = segundo_termo, enesimo_termo\n",
        "\n",
        "\n",
        "print(\"O\", n, \"º termo da sequência de Fibonacci é:\", enesimo_termo)"
      ]
    },
    {
      "cell_type": "markdown",
      "metadata": {
        "id": "DaF7vXEWxB6R"
      },
      "source": [
        "7 - Escreva um programa que conte em ordem reversa, de 25 a zero."
      ]
    },
    {
      "cell_type": "code",
      "execution_count": 13,
      "metadata": {
        "id": "2AYe_lX2xCdj"
      },
      "outputs": [
        {
          "name": "stdout",
          "output_type": "stream",
          "text": [
            "25\n",
            "24\n",
            "23\n",
            "22\n",
            "21\n",
            "20\n",
            "19\n",
            "18\n",
            "17\n",
            "16\n",
            "15\n",
            "14\n",
            "13\n",
            "12\n",
            "11\n",
            "10\n",
            "9\n",
            "8\n",
            "7\n",
            "6\n",
            "5\n",
            "4\n",
            "3\n",
            "2\n",
            "1\n",
            "0\n"
          ]
        }
      ],
      "source": [
        "for i in range(25, -1, -1):\n",
        "    print(i)"
      ]
    },
    {
      "cell_type": "markdown",
      "metadata": {
        "id": "Oc2yjIGqxF3h"
      },
      "source": [
        "8 - Crie um programa para que retorne o somatório de todos os números entre 1 e um valor fornecido pelo usuário. Por exemplo, se o usuário fornecer o número 4, o computador deverá calcular o somatório 1+ 2 + 3 + 4 = 10."
      ]
    },
    {
      "cell_type": "code",
      "execution_count": 23,
      "metadata": {
        "id": "m5gfIfomxGwe"
      },
      "outputs": [
        {
          "name": "stdout",
          "output_type": "stream",
          "text": [
            "O somatório de todos os números de 1 até -100 é: 0\n"
          ]
        }
      ],
      "source": [
        "numero = int(input(\"Digite um número: \"))\n",
        "soma = 0\n",
        "\n",
        "for i in range(1, numero + 1):\n",
        "    soma += i\n",
        "\n",
        "print(\"O somatório de todos os números de 1 até\", numero, \"é:\", soma)"
      ]
    },
    {
      "cell_type": "markdown",
      "metadata": {
        "id": "5D368hETyJQh"
      },
      "source": [
        "9 - Escreva um programa que leia a idade e salário de 10 pessoas. Informe em seguida:\n",
        "Qual é a média de idade entre as pessoas?\n",
        "Quantas pessoas há por faixa etária, considerando:\n",
        "jovens < 18\n",
        "18 <= adultos < 60\n",
        "idosos >= 60\n",
        "Em seguida, mostre qual é a faixa etária que acumula o maior salário.\n"
      ]
    },
    {
      "cell_type": "code",
      "execution_count": null,
      "metadata": {
        "id": "zZsS7JHm0UY6"
      },
      "outputs": [],
      "source": [
        "soma_idades = 0\n",
        "jovens = 0\n",
        "adultos = 0\n",
        "idosos = 0\n",
        "salario_jovens = 0\n",
        "salario_adultos = 0\n",
        "salario_idosos = 0\n",
        "\n",
        "for i in range(10):\n",
        "    idade = int(input(f\"Digite a idade da pessoa {i+1}: \"))\n",
        "    salario = float(input(f\"Digite o salário da pessoa {i+1}: \"))\n",
        "\n",
        "    soma_idades += idade\n",
        "    \n",
        "    if idade < 18:\n",
        "        jovens += 1\n",
        "        salario_jovens += salario\n",
        "    elif 18 <= idade < 60:\n",
        "        adultos += 1\n",
        "        salario_adultos += salario\n",
        "    else:\n",
        "        idosos += 1\n",
        "        salario_idosos += salario\n",
        "\n",
        "media_idade = soma_idades / 10\n",
        "\n",
        "if salario_jovens > salario_adultos and salario_jovens > salario_idosos:\n",
        "    faixa_maior_salario = \"Jovens\"\n",
        "elif salario_adultos > salario_jovens and salario_adultos > salario_idosos:\n",
        "    faixa_maior_salario = \"Adultos\"\n",
        "else:\n",
        "    faixa_maior_salario = \"Idosos\"\n",
        "\n",
        "print(f\"Média de idade: {media_idade}\")\n",
        "print(f\"Jovens (< 18 anos): {jovens}\")\n",
        "print(f\"Adultos (18 <= idade < 60 anos): {adultos}\")\n",
        "print(f\"Idosos (>= 60 anos): {idosos}\")\n",
        "print(f\"Faixa etária que acumula o maior salário: {faixa_maior_salario}\")"
      ]
    },
    {
      "cell_type": "markdown",
      "metadata": {
        "id": "L4xlYJzdhZyV"
      },
      "source": [
        "10 - Crie uma calculadora simples que realiza operações de adição, subtração, multiplicação, divisão e exponenciação. O programa deve continuar pedindo operações até que o usuário escolha sair.\n"
      ]
    },
    {
      "cell_type": "code",
      "execution_count": 4,
      "metadata": {
        "id": "t1GTUaOshazK"
      },
      "outputs": [
        {
          "name": "stdout",
          "output_type": "stream",
          "text": [
            "Escolha uma operação:\n",
            "1. Adição (+)\n",
            "2. Subtração (-)\n",
            "3. Multiplicação (*)\n",
            "4. Divisão (/)\n",
            "5. Exponenciação (^)\n",
            "6. Sair\n",
            "1.0 ^ 1.0 = 1.0\n",
            "\n",
            "Escolha uma operação:\n",
            "1. Adição (+)\n",
            "2. Subtração (-)\n",
            "3. Multiplicação (*)\n",
            "4. Divisão (/)\n",
            "5. Exponenciação (^)\n",
            "6. Sair\n",
            "3.0 * 3.0 = 9.0\n",
            "\n",
            "Escolha uma operação:\n",
            "1. Adição (+)\n",
            "2. Subtração (-)\n",
            "3. Multiplicação (*)\n",
            "4. Divisão (/)\n",
            "5. Exponenciação (^)\n",
            "6. Sair\n",
            "Saindo da calculadora.\n"
          ]
        }
      ],
      "source": [
        "continuar = True\n",
        "\n",
        "\n",
        "while continuar:\n",
        "    print(\"Escolha uma operação:\")\n",
        "    print(\"1. Adição (+)\")\n",
        "    print(\"2. Subtração (-)\")\n",
        "    print(\"3. Multiplicação (*)\")\n",
        "    print(\"4. Divisão (/)\")\n",
        "    print(\"5. Exponenciação (^)\")\n",
        "    print(\"6. Sair\")\n",
        "\n",
        "    escolha = input(\"Digite o número da operação desejada (1/2/3/4/5/6): \")\n",
        "\n",
        "    if escolha == '6':\n",
        "        print(\"Saindo da calculadora.\")\n",
        "        continuar = False\n",
        "    else:\n",
        "\n",
        "        num1 = float(input(\"Digite o primeiro número: \"))\n",
        "        num2 = float(input(\"Digite o segundo número: \"))\n",
        "\n",
        "        if escolha == '1':\n",
        "            resultado = num1 + num2\n",
        "            operador = '+'\n",
        "        elif escolha == '2':\n",
        "            resultado = num1 - num2\n",
        "            operador = '-'\n",
        "        elif escolha == '3':\n",
        "            resultado = num1 * num2\n",
        "            operador = '*'\n",
        "        elif escolha == '4':\n",
        "          \n",
        "            if num2 == 0:\n",
        "                print(\"Erro: Divisão por zero não é permitida.\")\n",
        "                continue\n",
        "            resultado = num1 / num2\n",
        "            operador = '/'\n",
        "        elif escolha == '5':\n",
        "            resultado = num1 ** num2\n",
        "            operador = '^'\n",
        "        else:\n",
        "            print(\"Escolha inválida, tente novamente.\")\n",
        "            continue\n",
        "        \n",
        "        print(f\"{num1} {operador} {num2} = {resultado}\\n\")"
      ]
    },
    {
      "cell_type": "markdown",
      "metadata": {
        "id": "TvOVLvpYhohk"
      },
      "source": [
        "11 - Crie um jogo em que o computador escolha um número aleatório entre 1 e 100, e o jogador tenta adivinhá-lo. O programa deve dar dicas se o número é maior ou menor do que o número digitado pelo jogador. O jogo continua até que o jogador acerte o número."
      ]
    },
    {
      "cell_type": "markdown",
      "metadata": {
        "id": "GMjNhBcxo3ks"
      },
      "source": [
        "Exemplo de saída:\n",
        "\n",
        "Bem-vindo ao jogo de adivinhação!\n",
        "\n",
        "Tente adivinhar o número entre 1 e 100.\n",
        "\n",
        "Digite sua tentativa: 50\n",
        "\n",
        "O número é menor.\n",
        "\n",
        "Digite sua tentativa: 75\n",
        "\n",
        "O número é maior.\n",
        "\n",
        "Digite sua tentativa: 63\n",
        "\n",
        "O número é menor.\n",
        "\n",
        "Digite sua tentativa: 68\n",
        "\n",
        "Parabéns! Você acertou o número 68 em 4 tentativas!"
      ]
    },
    {
      "cell_type": "code",
      "execution_count": 29,
      "metadata": {
        "id": "wD7WVTzdh3Tf"
      },
      "outputs": [
        {
          "name": "stdout",
          "output_type": "stream",
          "text": [
            "Bem-vindo ao jogo de adivinhação!\n",
            "Tente adivinhar o número entre 1 e 100.\n",
            "O número é maior.\n",
            "O número é menor.\n",
            "O número é menor.\n",
            "O número é maior.\n",
            "Parabéns! Você acertou o número 57 em 5 tentativas!\n"
          ]
        }
      ],
      "source": [
        "import random\n",
        "\n",
        "numero_aleatorio = random.randint(1, 100)\n",
        "\n",
        "print(\"Bem-vindo ao jogo de adivinhação!\")\n",
        "print(\"Tente adivinhar o número entre 1 e 100.\")\n",
        "\n",
        "tentativas = 0\n",
        "\n",
        "while tentativas != numero_aleatorio:\n",
        "    # Recebendo a tentativa do jogador\n",
        "    tentativa = int(input(\"Digite sua tentativa: \"))\n",
        "    tentativas += 1\n",
        "\n",
        "    # Verificando se a tentativa do jogador está correta\n",
        "    if tentativa == numero_aleatorio:\n",
        "        print(\"Parabéns! Você acertou o número\", numero_aleatorio, \"em\", tentativas, \"tentativas!\")\n",
        "        break\n",
        "    elif tentativa < numero_aleatorio:\n",
        "        print(\"O número é maior.\")\n",
        "    else:\n",
        "        print(\"O número é menor.\")"
      ]
    },
    {
      "cell_type": "markdown",
      "metadata": {
        "id": "528JJZodmafY"
      },
      "source": [
        "12 - Escreva um programa que calcula o valor de um investimento após um número específico de anos, considerando juros compostos. O usuário deve fornecer o principal (valor inicial do investimento), a taxa de juros anual (em porcentagem) e o número de anos.\n",
        "\n",
        "A fórmula para calcular o valor de um investimento após n anos com juros compostos é:\n",
        "\n",
        "A=P×(1+r)^n\n",
        "\n",
        "\n",
        "Onde:\n",
        "\n",
        "\n",
        "A é o valor do investimento após n anos,\n",
        "\n",
        "P é o principal (valor inicial do investimento),\n",
        "\n",
        "r é a taxa de juros anual (em decimal), e\n",
        "\n",
        "n é o número de anos."
      ]
    },
    {
      "cell_type": "markdown",
      "metadata": {
        "id": "-6opTpcXoxNw"
      },
      "source": [
        "\n",
        "Exemplo de saída:\n",
        "\n",
        "Digite o principal (R$): 1000\n",
        "\n",
        "Digite a taxa de juros anual (%): 5\n",
        "\n",
        "Digite o número de anos: 10\n",
        "\n",
        "O valor do investimento após 10 anos é: R$ 1628.89"
      ]
    },
    {
      "cell_type": "code",
      "execution_count": 59,
      "metadata": {
        "id": "3XHAThk1oFIT"
      },
      "outputs": [
        {
          "name": "stdout",
          "output_type": "stream",
          "text": [
            "O valor do investimento após 1 anos será de R$ 1114.30\n"
          ]
        }
      ],
      "source": [
        "principal = float(input(\"Digite o valor inicial do investimento (em reais): \"))\n",
        "taxa_juros_anual = float(input(\"Digite a taxa de juros anual (em porcentagem): \")) / 100\n",
        "anos = int(input(\"Digite o número de anos: \"))\n",
        "\n",
        "# Juros compostos\n",
        "valor_investimento = principal * (1 + taxa_juros_anual) ** anos\n",
        "\n",
        "print(\"O valor do investimento após\", anos, \"anos será de R$\", \"{:.2f}\".format(valor_investimento))"
      ]
    },
    {
      "cell_type": "code",
      "execution_count": 60,
      "metadata": {},
      "outputs": [
        {
          "name": "stdout",
          "output_type": "stream",
          "text": [
            "O valor do investimento após 1 anos será de R$ 2385.39\n"
          ]
        }
      ],
      "source": [
        "#Pensei um pouco se eu investir um valor mensal até o final dos anos do investimento, e fazer o cálculo e mostrar o valor no final.\n",
        "\n",
        "principal = float(input(\"Digite o valor inicial do investimento (em reais): \"))\n",
        "taxa_juros_anual = float(input(\"Digite a taxa de juros anual (em porcentagem): \")) / 100\n",
        "anos = int(input(\"Digite o número de anos: \"))\n",
        "contribuicao_mensal = float(input(\"Digite o valor da contribuição mensal (em reais): \"))\n",
        "\n",
        "# Para que o calculo dê certo, tem que converter a taxa de juros anual para uma taxa mensal, se desmembrar ele vai calcular corretamente\n",
        "taxa_juros_mensal = taxa_juros_anual / 12\n",
        "\n",
        "# Calculando o valor do investimento após o número de anos especificado com contribuições mensais\n",
        "valor_investimento = principal \n",
        "for _ in range(anos * 12): \n",
        "    valor_investimento *= 1 + taxa_juros_mensal  # Aplica o crescimento mensal do investimento de acordo com o calculo de juros compostos\n",
        "    valor_investimento += contribuicao_mensal  # Adiciona a contribuição mensal ao investimento\n",
        "\n",
        "print(\"O valor do investimento após\", anos, \"anos será de R$\", \"{:.2f}\".format(valor_investimento))"
      ]
    }
  ],
  "metadata": {
    "colab": {
      "provenance": []
    },
    "kernelspec": {
      "display_name": "Python 3",
      "name": "python3"
    },
    "language_info": {
      "codemirror_mode": {
        "name": "ipython",
        "version": 3
      },
      "file_extension": ".py",
      "mimetype": "text/x-python",
      "name": "python",
      "nbconvert_exporter": "python",
      "pygments_lexer": "ipython3",
      "version": "3.10.0"
    }
  },
  "nbformat": 4,
  "nbformat_minor": 0
}
